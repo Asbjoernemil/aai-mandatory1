{
 "cells": [
  {
   "cell_type": "markdown",
   "id": "1a2bd08a-22af-4b31-8bf5-a0f3f1d48443",
   "metadata": {},
   "source": [
    "# MANDATORY ASSIGNMENT 1: REGRESSION PROBLEM\n",
    "## Problem: Givet bilens specifikationer, forudsig dens mpg"
   ]
  },
  {
   "cell_type": "code",
   "execution_count": 15,
   "id": "afefc064-5d73-4d1b-8361-c1f6af308e43",
   "metadata": {},
   "outputs": [],
   "source": [
    "# 1. Import Libraries\n",
    "import pandas as pd\n",
    "import numpy as np\n",
    "import matplotlib.pyplot as plt\n",
    "from sklearn.linear_model import LinearRegression\n",
    "from sklearn.model_selection import train_test_split\n",
    "from sklearn.metrics import mean_squared_error, root_mean_squared_error, r2_score, mean_absolute_error"
   ]
  },
  {
   "cell_type": "markdown",
   "id": "5e9cd2d7-17ac-4605-9354-384fc2897f73",
   "metadata": {},
   "source": [
    "# 2. Load and Explore Data"
   ]
  },
  {
   "cell_type": "code",
   "execution_count": 26,
   "id": "d81aa8e8-cff9-42b9-b05e-b23f7aefd70c",
   "metadata": {},
   "outputs": [
    {
     "name": "stdout",
     "output_type": "stream",
     "text": [
      "Dataset shape: (398, 9)\n",
      "\n",
      "First 5 rows:\n",
      "    mpg  cylinders  displacement horsepower  weight  acceleration  model year  \\\n",
      "0  18.0          8         307.0        130    3504          12.0          70   \n",
      "1  15.0          8         350.0        165    3693          11.5          70   \n",
      "2  18.0          8         318.0        150    3436          11.0          70   \n",
      "3  16.0          8         304.0        150    3433          12.0          70   \n",
      "4  17.0          8         302.0        140    3449          10.5          70   \n",
      "\n",
      "   origin                   car name  \n",
      "0       1  chevrolet chevelle malibu  \n",
      "1       1          buick skylark 320  \n",
      "2       1         plymouth satellite  \n",
      "3       1              amc rebel sst  \n",
      "4       1                ford torino  \n",
      "\n",
      "Data types:\n",
      "mpg             float64\n",
      "cylinders         int64\n",
      "displacement    float64\n",
      "horsepower       object\n",
      "weight            int64\n",
      "acceleration    float64\n",
      "model year        int64\n",
      "origin            int64\n",
      "car name         object\n",
      "dtype: object\n",
      "\n",
      "Basic statistics:\n",
      "              mpg   cylinders  displacement       weight  acceleration  \\\n",
      "count  398.000000  398.000000    398.000000   398.000000    398.000000   \n",
      "mean    23.514573    5.454774    193.425879  2970.424623     15.568090   \n",
      "std      7.815984    1.701004    104.269838   846.841774      2.757689   \n",
      "min      9.000000    3.000000     68.000000  1613.000000      8.000000   \n",
      "25%     17.500000    4.000000    104.250000  2223.750000     13.825000   \n",
      "50%     23.000000    4.000000    148.500000  2803.500000     15.500000   \n",
      "75%     29.000000    8.000000    262.000000  3608.000000     17.175000   \n",
      "max     46.600000    8.000000    455.000000  5140.000000     24.800000   \n",
      "\n",
      "       model year      origin  \n",
      "count  398.000000  398.000000  \n",
      "mean    76.010050    1.572864  \n",
      "std      3.697627    0.802055  \n",
      "min     70.000000    1.000000  \n",
      "25%     73.000000    1.000000  \n",
      "50%     76.000000    1.000000  \n",
      "75%     79.000000    2.000000  \n",
      "max     82.000000    3.000000  \n"
     ]
    }
   ],
   "source": [
    "# Load data\n",
    "df = pd.read_csv(\"data/cars.csv\")\n",
    "\n",
    "print(\"Dataset shape:\", df.shape)\n",
    "print(\"\\nFirst 5 rows:\")\n",
    "print(df.head())\n",
    "\n",
    "print(\"\\nData types:\")\n",
    "print(df.dtypes)\n",
    "\n",
    "print(\"\\nBasic statistics:\")\n",
    "print(df.describe())"
   ]
  },
  {
   "cell_type": "markdown",
   "id": "4355d1e6-c88c-4bfd-9f28-1155e525a7df",
   "metadata": {},
   "source": [
    "# 3. Data Cleaning"
   ]
  },
  {
   "cell_type": "code",
   "execution_count": 27,
   "id": "7f863101-99b5-4c50-a438-ba36d3f7722c",
   "metadata": {},
   "outputs": [
    {
     "name": "stdout",
     "output_type": "stream",
     "text": [
      "Missing values per column:\n",
      "mpg             0\n",
      "cylinders       0\n",
      "displacement    0\n",
      "horsepower      6\n",
      "weight          0\n",
      "acceleration    0\n",
      "model year      0\n",
      "origin          0\n",
      "car name        0\n",
      "dtype: int64\n"
     ]
    }
   ],
   "source": [
    "# convert '?' to NaN and make numeric\n",
    "df['horsepower'] = df['horsepower'].replace('?', np.nan)\n",
    "df['horsepower'] = pd.to_numeric(df['horsepower'])\n",
    "\n",
    "print(f\"Missing values per column:\")\n",
    "print(df.isnull().sum())"
   ]
  },
  {
   "cell_type": "code",
   "execution_count": 112,
   "id": "5d3ec50c-defe-47bd-9c92-85b46da69adf",
   "metadata": {},
   "outputs": [
    {
     "name": "stdout",
     "output_type": "stream",
     "text": [
      "Rækker i original: 398\n",
      "Rækker efter dropna: 392  (fjernet 6)\n",
      "\n",
      "Kolonner efter one-hot encoding:\n",
      "['cylinders', 'displacement', 'horsepower', 'weight', 'acceleration', 'model year', 'mpg', 'origin_2', 'origin_3']\n",
      "\n",
      "Dtypes (udvalgte kolonner):\n",
      "cylinders         int64\n",
      "displacement    float64\n",
      "horsepower      float64\n",
      "weight            int64\n",
      "acceleration    float64\n",
      "model year        int64\n",
      "mpg             float64\n",
      "origin_2           bool\n",
      "origin_3           bool\n",
      "dtype: object\n"
     ]
    }
   ],
   "source": [
    "target = \"mpg\"\n",
    "features = [\"cylinders\", \"displacement\", \"horsepower\", \"weight\",\n",
    "            \"acceleration\", \"model year\", \"origin\"]\n",
    "\n",
    "# 2) Lav en ren kopi med kun de kolonner vi skal bruge\n",
    "df_clean = df[features + [target]].dropna().copy()\n",
    "\n",
    "# 3) One-hot encode 'origin' og drop original column\n",
    "df_clean = pd.get_dummies(df_clean, columns=['origin'], prefix='origin', drop_first=True)\n",
    "\n",
    "print(f\"Rækker i original: {len(df)}\")\n",
    "print(f\"Rækker efter dropna: {len(df_clean)}  (fjernet {len(df) - len(df_clean)})\")\n",
    "\n",
    "# # 4) Sanity check: nye kolonner efter one-hot encoding\n",
    "print(\"\\nKolonner efter one-hot encoding:\")\n",
    "print(df_clean.columns.tolist())\n",
    "\n",
    "print(\"\\nDtypes (udvalgte kolonner):\")\n",
    "print(df_clean.dtypes)"
   ]
  },
  {
   "cell_type": "code",
   "execution_count": 113,
   "id": "cd8d3f35-7fe0-4614-8709-81cc6ea51a13",
   "metadata": {},
   "outputs": [
    {
     "name": "stdout",
     "output_type": "stream",
     "text": [
      "Feature kolonner: ['cylinders', 'displacement', 'horsepower', 'weight', 'acceleration', 'model year', 'origin_2', 'origin_3']\n"
     ]
    },
    {
     "data": {
      "text/plain": [
       "((313, 8), (79, 8), (313,), (79,))"
      ]
     },
     "execution_count": 113,
     "metadata": {},
     "output_type": "execute_result"
    }
   ],
   "source": [
    "X = df_clean.drop(columns=[target])\n",
    "y = df_clean[target]\n",
    "\n",
    "X_train, X_test, y_train, y_test = train_test_split(\n",
    "    X, y, test_size=0.20, random_state=42\n",
    ")\n",
    "\n",
    "print(f\"Feature kolonner: {X.columns.tolist()}\")\n",
    "X_train.shape, X_test.shape, y_train.shape, y_test.shape"
   ]
  },
  {
   "cell_type": "code",
   "execution_count": 121,
   "id": "f2360c91-3289-4bd1-970d-c3cce2ce3a77",
   "metadata": {},
   "outputs": [
    {
     "name": "stdout",
     "output_type": "stream",
     "text": [
      "Training set:   274 samples (69.9%)\n",
      "Validation set: 59 samples (15.1%)\n",
      "Test set:       59 samples (15.1%)\n"
     ]
    }
   ],
   "source": [
    "# Erstat din nuværende train_test_split celle med:\n",
    "\n",
    "# Split i train (70%), validation (15%), test (15%)\n",
    "X_train_full, X_test, y_train_full, y_test = train_test_split(\n",
    "    X, y, test_size=0.15, random_state=42\n",
    ")\n",
    "\n",
    "X_train, X_val, y_train, y_val = train_test_split(\n",
    "    X_train_full, y_train_full, test_size=0.176, random_state=42  # 0.176 * 0.85 ≈ 0.15\n",
    ")\n",
    "\n",
    "print(f\"Training set:   {len(X_train)} samples ({len(X_train)/len(X)*100:.1f}%)\")\n",
    "print(f\"Validation set: {len(X_val)} samples ({len(X_val)/len(X)*100:.1f}%)\")\n",
    "print(f\"Test set:       {len(X_test)} samples ({len(X_test)/len(X)*100:.1f}%)\")"
   ]
  },
  {
   "cell_type": "code",
   "execution_count": 122,
   "id": "f07f8f56-7349-4fe5-b49b-2492b71e942f",
   "metadata": {},
   "outputs": [
    {
     "name": "stdout",
     "output_type": "stream",
     "text": [
      "============================================================\n",
      "📊 BIAS-VARIANCE ANALYSE\n",
      "============================================================\n",
      "Training   RMSE: 3.31 | R²: 0.822\n",
      "Validation RMSE: 3.44 | R²: 0.801\n",
      "============================================================\n",
      "✅ GOOD FIT: Modellen generaliserer godt\n"
     ]
    }
   ],
   "source": [
    "# Tilføj denne celle efter model training:\n",
    "\n",
    "# Evaluer på både training og validation\n",
    "y_train_pred = lr.predict(X_train)\n",
    "y_val_pred = lr.predict(X_val)\n",
    "\n",
    "train_rmse = np.sqrt(mean_squared_error(y_train, y_train_pred))\n",
    "val_rmse = np.sqrt(mean_squared_error(y_val, y_val_pred))\n",
    "\n",
    "train_r2 = r2_score(y_train, y_train_pred)\n",
    "val_r2 = r2_score(y_val, y_val_pred)\n",
    "\n",
    "print(\"=\" * 60)\n",
    "print(\"📊 BIAS-VARIANCE ANALYSE\")\n",
    "print(\"=\" * 60)\n",
    "print(f\"Training   RMSE: {train_rmse:.2f} | R²: {train_r2:.3f}\")\n",
    "print(f\"Validation RMSE: {val_rmse:.2f} | R²: {val_r2:.3f}\")\n",
    "print(\"=\" * 60)\n",
    "\n",
    "# Fortolk resultaterne\n",
    "if train_r2 > 0.85 and val_r2 < 0.70:\n",
    "    print(\"⚠️  OVERFITTING: Modellen memorerer træningsdata\")\n",
    "    print(\"    → Prøv regularization (Ridge/Lasso)\")\n",
    "elif train_r2 < 0.70 and val_r2 < 0.70:\n",
    "    print(\"⚠️  UNDERFITTING: Modellen lærer ikke nok\")\n",
    "    print(\"    → Prøv flere features eller mere kompleks model\")\n",
    "else:\n",
    "    print(\"✅ GOOD FIT: Modellen generaliserer godt\")"
   ]
  },
  {
   "cell_type": "code",
   "execution_count": 123,
   "id": "d4e8fab8-16ec-4878-a4e6-f04f91212912",
   "metadata": {},
   "outputs": [
    {
     "name": "stdout",
     "output_type": "stream",
     "text": [
      "============================================================\n",
      "🔧 HYPERPARAMETER TUNING\n",
      "============================================================\n",
      "Linear Regression         | R²: 0.790 | RMSE: 3.53\n",
      "Ridge (alpha=0.1)         | R²: 0.790 | RMSE: 3.53\n",
      "Ridge (alpha=1.0)         | R²: 0.792 | RMSE: 3.52\n",
      "Ridge (alpha=10)          | R²: 0.798 | RMSE: 3.46\n",
      "Lasso (alpha=0.1)         | R²: 0.802 | RMSE: 3.43\n",
      "\n",
      "🏆 Best model: Lasso (alpha=0.1)\n"
     ]
    }
   ],
   "source": [
    "# Tilføj ny celle for at eksperimentere med forskellige modeller:\n",
    "\n",
    "from sklearn.linear_model import Ridge, Lasso\n",
    "\n",
    "print(\"=\" * 60)\n",
    "print(\"🔧 HYPERPARAMETER TUNING\")\n",
    "print(\"=\" * 60)\n",
    "\n",
    "models = {\n",
    "    'Linear Regression': LinearRegression(),\n",
    "    'Ridge (alpha=0.1)': Ridge(alpha=0.1),\n",
    "    'Ridge (alpha=1.0)': Ridge(alpha=1.0),\n",
    "    'Ridge (alpha=10)': Ridge(alpha=10),\n",
    "    'Lasso (alpha=0.1)': Lasso(alpha=0.1),\n",
    "}\n",
    "\n",
    "results = []\n",
    "for name, model in models.items():\n",
    "    model.fit(X_train, y_train)\n",
    "    \n",
    "    val_pred = model.predict(X_val)\n",
    "    val_r2 = r2_score(y_val, val_pred)\n",
    "    val_rmse = np.sqrt(mean_squared_error(y_val, val_pred))\n",
    "    \n",
    "    results.append({\n",
    "        'Model': name,\n",
    "        'Val R²': val_r2,\n",
    "        'Val RMSE': val_rmse\n",
    "    })\n",
    "    print(f\"{name:25s} | R²: {val_r2:.3f} | RMSE: {val_rmse:.2f}\")\n",
    "\n",
    "# Vælg den bedste model\n",
    "best_model_name = max(results, key=lambda x: x['Val R²'])['Model']\n",
    "print(f\"\\n🏆 Best model: {best_model_name}\")"
   ]
  },
  {
   "cell_type": "code",
   "execution_count": 125,
   "id": "e915d83d-5f54-43d7-82ef-88c4f8939320",
   "metadata": {},
   "outputs": [
    {
     "name": "stdout",
     "output_type": "stream",
     "text": [
      "============================================================\n",
      "🎯 FINAL TEST SET PERFORMANCE\n",
      "============================================================\n",
      "Test RMSE: 2.99 mpg\n",
      "Test R²:   0.847\n",
      "============================================================\n",
      "⚠️  NO MORE CHANGES ALLOWED AFTER TEST SET EVALUATION!\n"
     ]
    }
   ],
   "source": [
    "# EFTER du har valgt din bedste model:\n",
    "\n",
    "# Træn den bedste model på HELE training+validation data\n",
    "best_model = Lasso(alpha=0.1)  # Brug den model der performede bedst\n",
    "best_model.fit(X_train_full, y_train_full)\n",
    "\n",
    "# Nu evaluerer vi på test set (første og ENESTE gang)\n",
    "y_test_pred = best_model.predict(X_test)\n",
    "test_rmse = np.sqrt(mean_squared_error(y_test, y_test_pred))\n",
    "test_r2 = r2_score(y_test, y_test_pred)\n",
    "\n",
    "print(\"=\" * 60)\n",
    "print(\"🎯 FINAL TEST SET PERFORMANCE\")\n",
    "print(\"=\" * 60)\n",
    "print(f\"Test RMSE: {test_rmse:.2f} mpg\")\n",
    "print(f\"Test R²:   {test_r2:.3f}\")\n",
    "print(\"=\" * 60)\n",
    "print(\"⚠️  NO MORE CHANGES ALLOWED AFTER TEST SET EVALUATION!\")"
   ]
  },
  {
   "cell_type": "code",
   "execution_count": 126,
   "id": "98a4b1c2-0df4-46ff-b9cb-71692c5da75c",
   "metadata": {},
   "outputs": [
    {
     "name": "stdout",
     "output_type": "stream",
     "text": [
      "📊 Baseline Linear Regression (på validation set):\n",
      "RMSE: 3.53 mpg\n",
      "MAE : 2.75 mpg\n",
      "R²  : 0.790\n"
     ]
    }
   ],
   "source": [
    "# Dette er kun til demonstration af baseline model\n",
    "lr_baseline = LinearRegression().fit(X_train, y_train)\n",
    "y_pred_baseline = lr_baseline.predict(X_val)  # Brug validation, ikke test!\n",
    "\n",
    "rmse = np.sqrt(mean_squared_error(y_val, y_pred_baseline))\n",
    "mae  = mean_absolute_error(y_val, y_pred_baseline)\n",
    "r2   = r2_score(y_val, y_pred_baseline)\n",
    "\n",
    "print(\"📊 Baseline Linear Regression (på validation set):\")\n",
    "print(f\"RMSE: {rmse:.2f} mpg\")\n",
    "print(f\"MAE : {mae:.2f} mpg\")\n",
    "print(f\"R²  : {r2:.3f}\")"
   ]
  },
  {
   "cell_type": "code",
   "execution_count": 114,
   "id": "b8a11b04-82bf-4de6-bfbd-baef8e39cc20",
   "metadata": {},
   "outputs": [
    {
     "name": "stdout",
     "output_type": "stream",
     "text": [
      "RMSE: 3.26 mpg\n",
      "MAE : 2.46 mpg\n",
      "R²  : 0.792\n"
     ]
    }
   ],
   "source": [
    "lr = LinearRegression().fit(X_train, y_train)\n",
    "y_pred = lr.predict(X_test)\n",
    "\n",
    "rmse = np.sqrt(mean_squared_error(y_test, y_pred))\n",
    "mae  = mean_absolute_error(y_test, y_pred)\n",
    "r2   = r2_score(y_test, y_pred)\n",
    "\n",
    "print(f\"RMSE: {rmse:.2f} mpg\")\n",
    "print(f\"MAE : {mae:.2f} mpg\")\n",
    "print(f\"R²  : {r2:.3f}\")"
   ]
  },
  {
   "cell_type": "code",
   "execution_count": 127,
   "id": "7358098a-267f-421e-a5a6-5853890d02c7",
   "metadata": {},
   "outputs": [
    {
     "name": "stdout",
     "output_type": "stream",
     "text": [
      "================================================================================\n",
      "KONKRETE EKSEMPLER: Forudsigelse af MPG for nye biler\n",
      "================================================================================\n",
      "\n",
      "📋 Eksempel: 5 biler fra test sættet (med Lasso model)\n",
      "\n",
      "     cylinders  displacement  horsepower  weight  acceleration  model year  origin_2  origin_3  Actual_MPG  Predicted_MPG     Error\n",
      "79           4          96.0        69.0    2189          18.0          72      True     False        26.0      26.055595 -0.055595\n",
      "276          4         121.0       115.0    2795          15.7          78      True     False        21.6      26.233604 -4.633604\n",
      "248          4          91.0        60.0    1800          16.4          78     False      True        36.1      33.363233  2.736767\n",
      "56           4          91.0        70.0    1955          20.5          71     False     False        26.0      26.032657 -0.032657\n",
      "393          4         140.0        86.0    2790          15.6          82     False     False        27.0      28.627148 -1.627148\n",
      "\n",
      "================================================================================\n",
      "Fortolkning:\n",
      "- Vi kender bilens specifikationer (cylinders, horsepower, weight osv.)\n",
      "- Modellen forudsiger MPG baseret på disse\n",
      "- Vi sammenligner med den rigtige MPG for at se hvor god modellen er\n",
      "================================================================================\n"
     ]
    }
   ],
   "source": [
    "# Tag de første 5 test biler\n",
    "print(\"=\" * 80)\n",
    "print(\"KONKRETE EKSEMPLER: Forudsigelse af MPG for nye biler\")\n",
    "print(\"=\" * 80)\n",
    "\n",
    "# Vis features for de første test biler\n",
    "test_examples = pd.DataFrame(X_test.head(5))\n",
    "test_examples['Actual_MPG'] = y_test.head(5).values\n",
    "test_examples['Predicted_MPG'] = y_test_pred[:5]  # Brug y_test_pred fra best_model!\n",
    "test_examples['Error'] = test_examples['Actual_MPG'] - test_examples['Predicted_MPG']\n",
    "\n",
    "print(\"\\n📋 Eksempel: 5 biler fra test sættet (med Lasso model)\\n\")\n",
    "print(test_examples.to_string())\n",
    "\n",
    "print(\"\\n\" + \"=\" * 80)\n",
    "print(\"Fortolkning:\")\n",
    "print(\"- Vi kender bilens specifikationer (cylinders, horsepower, weight osv.)\")\n",
    "print(\"- Modellen forudsiger MPG baseret på disse\")\n",
    "print(\"- Vi sammenligner med den rigtige MPG for at se hvor god modellen er\")\n",
    "print(\"=\" * 80)"
   ]
  },
  {
   "cell_type": "code",
   "execution_count": 115,
   "id": "a1b7c289-7370-44fd-9c93-8199031c8e4c",
   "metadata": {},
   "outputs": [
    {
     "name": "stdout",
     "output_type": "stream",
     "text": [
      "================================================================================\n",
      "KONKRETE EKSEMPLER: Forudsigelse af MPG for nye biler\n",
      "================================================================================\n",
      "\n",
      "📋 Eksempel: 5 biler fra test sættet\n",
      "\n",
      "     cylinders  displacement  horsepower  weight  acceleration  model year  origin_2  origin_3  Actual_MPG  Predicted_MPG     Error\n",
      "79           4          96.0        69.0    2189          18.0          72      True     False        26.0      26.623086 -0.623086\n",
      "276          4         121.0       115.0    2795          15.7          78      True     False        21.6      26.902469 -5.302469\n",
      "248          4          91.0        60.0    1800          16.4          78     False      True        36.1      34.265982  1.834018\n",
      "56           4          91.0        70.0    1955          20.5          71     False     False        26.0      24.441176  1.558824\n",
      "393          4         140.0        86.0    2790          15.6          82     False     False        27.0      28.235414 -1.235414\n",
      "\n",
      "================================================================================\n",
      "Fortolkning:\n",
      "- Vi kender bilens specifikationer (cylinders, horsepower, weight osv.)\n",
      "- Modellen forudsiger MPG baseret på disse\n",
      "- Vi sammenligner med den rigtige MPG for at se hvor god modellen er\n",
      "================================================================================\n"
     ]
    }
   ],
   "source": [
    "# Tag de første 5 test biler\n",
    "print(\"=\" * 80)\n",
    "print(\"KONKRETE EKSEMPLER: Forudsigelse af MPG for nye biler\")\n",
    "print(\"=\" * 80)\n",
    "\n",
    "# Vis features for de første test biler\n",
    "test_examples = pd.DataFrame(X_test.head(5))\n",
    "test_examples['Actual_MPG'] = y_test.head(5).values\n",
    "test_examples['Predicted_MPG'] = y_pred[:5]\n",
    "test_examples['Error'] = test_examples['Actual_MPG'] - test_examples['Predicted_MPG']\n",
    "\n",
    "print(\"\\n📋 Eksempel: 5 biler fra test sættet\\n\")\n",
    "print(test_examples.to_string())\n",
    "\n",
    "print(\"\\n\" + \"=\" * 80)\n",
    "print(\"Fortolkning:\")\n",
    "print(\"- Vi kender bilens specifikationer (cylinders, horsepower, weight osv.)\")\n",
    "print(\"- Modellen forudsiger MPG baseret på disse\")\n",
    "print(\"- Vi sammenligner med den rigtige MPG for at se hvor god modellen er\")\n",
    "print(\"=\" * 80)"
   ]
  },
  {
   "cell_type": "code",
   "execution_count": 103,
   "id": "d168d484-67a5-45d1-a798-668c15ec988c",
   "metadata": {},
   "outputs": [],
   "source": [
    "new_car = pd.DataFrame({\n",
    "    'cylinders':   [5],\n",
    "    'displacement':[130],\n",
    "    'horsepower':  [197],\n",
    "    'weight':      [2844],\n",
    "    'acceleration':[6.7],\n",
    "    'model year':  [80],\n",
    "    # 'origin_2':    [1],      # 1 hvis Europa, 0 ellers\n",
    "    # 'origin_3':    [0]       # 1 hvis Japan, 0 ellers\n",
    "})"
   ]
  },
  {
   "cell_type": "code",
   "execution_count": 104,
   "id": "1483bbbb-b9ef-49e0-91d4-890846246c93",
   "metadata": {},
   "outputs": [
    {
     "name": "stdout",
     "output_type": "stream",
     "text": [
      "================================================================================\n",
      "🚗 NY BIL - FORUDSIGELSE\n",
      "================================================================================\n",
      "\n",
      "📋 Bil specifikationer:\n",
      "   cylinders: 5\n",
      "   displacement: 130\n",
      "   horsepower: 197\n",
      "   weight: 2844\n",
      "   acceleration: 6.7\n",
      "   model year: 80\n",
      "\n",
      "🎯 Forudsagt MPG: 26.65 mpg\n",
      "   vil sandsynligvis have en brændstofeffektivitet på cirka 26.6 mpg\n",
      "================================================================================\n"
     ]
    }
   ],
   "source": [
    "predicted_mpg = lr.predict(new_car)[0]\n",
    "\n",
    "print(\"=\" * 80)\n",
    "print(\"🚗 NY BIL - FORUDSIGELSE\")\n",
    "print(\"=\" * 80)\n",
    "print(\"\\n📋 Bil specifikationer:\")\n",
    "\n",
    "# Brug new_car's kolonner i stedet for features\n",
    "for col in new_car.columns:\n",
    "    print(f\"   {col}: {new_car[col].values[0]}\")\n",
    "\n",
    "print(f\"\\n🎯 Forudsagt MPG: {predicted_mpg:.2f} mpg\")\n",
    "print(f\"   vil sandsynligvis have en brændstofeffektivitet på cirka {predicted_mpg:.1f} mpg\")\n",
    "print(\"=\" * 80)"
   ]
  },
  {
   "cell_type": "code",
   "execution_count": 116,
   "id": "b4562d6b-860a-448f-95e8-77e1e7e88350",
   "metadata": {},
   "outputs": [
    {
     "data": {
      "image/png": "[encoded data removed]",
      "text/plain": [
       "<Figure size 500x500 with 1 Axes>"
      ]
     },
     "metadata": {},
     "output_type": "display_data"
    },
    {
     "data": {
      "image/png": "[encoded data removed]",
      "text/plain": [
       "<Figure size 500x500 with 1 Axes>"
      ]
     },
     "metadata": {},
     "output_type": "display_data"
    }
   ],
   "source": [
    "# Actual vs Predicted\n",
    "plt.figure(figsize=(5,5))\n",
    "plt.scatter(y_test, y_pred, alpha=0.7)\n",
    "lo = min(y_test.min(), y_pred.min())\n",
    "hi = max(y_test.max(), y_pred.max())\n",
    "plt.plot([lo, hi], [lo, hi])\n",
    "plt.xlabel(\"Faktisk mpg\")\n",
    "plt.ylabel(\"Forudsagt mpg\")\n",
    "plt.title(\"Actual vs Predicted\")\n",
    "plt.show()\n",
    "\n",
    "# Residuals vs Predicted\n",
    "residuals = y_test - y_pred\n",
    "plt.figure(figsize=(5,5))\n",
    "plt.scatter(y_pred, residuals, alpha=0.7)\n",
    "plt.axhline(0, linestyle=\"--\")\n",
    "plt.xlabel(\"Forudsagt mpg\")\n",
    "plt.ylabel(\"Residual (faktisk - forudsagt)\")\n",
    "plt.title(\"Residuals vs Predicted\")\n",
    "plt.show()"
   ]
  },
  {
   "cell_type": "code",
   "execution_count": 117,
   "id": "7804bfb7-d784-4271-af7a-786f6a933fdd",
   "metadata": {},
   "outputs": [
    {
     "name": "stdout",
     "output_type": "stream",
     "text": [
      "origin_3        +3.206\n",
      "origin_2        +2.875\n",
      "model year      +0.797\n",
      "cylinders       -0.342\n",
      "acceleration    +0.042\n",
      "horsepower      -0.022\n",
      "displacement    +0.019\n",
      "weight          -0.006\n"
     ]
    }
   ],
   "source": [
    "coef_table = dict(zip(X_train.columns, lr.coef_))\n",
    "for k,v in sorted(coef_table.items(), key=lambda kv: abs(kv[1]), reverse=True):\n",
    "    print(f\"{k:15s} {v:+.3f}\")"
   ]
  },
  {
   "cell_type": "code",
   "execution_count": 119,
   "id": "7e61a8df-ba56-4ddc-8d51-cf51c287b0a1",
   "metadata": {},
   "outputs": [
    {
     "name": "stdout",
     "output_type": "stream",
     "text": [
      "📍 Gennemsnitlig MPG per origin:\n",
      "origin\n",
      "1    20.1\n",
      "2    27.9\n",
      "3    30.5\n",
      "Name: mpg, dtype: float64\n",
      "\n",
      "USA=1, Europa=2, Japan=3\n"
     ]
    }
   ],
   "source": [
    "# Vis betydningen af origin\n",
    "print(\"📍 Gennemsnitlig MPG per origin:\")\n",
    "print(df.groupby('origin')['mpg'].mean().round(1))\n",
    "print(\"\\nUSA=1, Europa=2, Japan=3\")"
   ]
  },
  {
   "cell_type": "code",
   "execution_count": 120,
   "id": "776e2096-0699-4ecb-90d2-08441c214a3d",
   "metadata": {},
   "outputs": [
    {
     "name": "stdout",
     "output_type": "stream",
     "text": [
      "============================================================\n",
      "📊 CROSS-VALIDATION SAMMENLIGNING (5 splits)\n",
      "============================================================\n",
      "UDEN origin: R² = 0.571 (±0.231)\n",
      "MED origin:  R² = 0.594 (±0.197)\n",
      "\n",
      "Forbedring: 2.3 procentpoint\n"
     ]
    }
   ],
   "source": [
    "# Sammenligning: med og uden origin over flere splits\n",
    "from sklearn.model_selection import cross_val_score\n",
    "\n",
    "# UDEN origin\n",
    "X_no_origin = df_clean.drop(columns=[target, 'origin_2', 'origin_3'])\n",
    "y = df_clean[target]\n",
    "\n",
    "scores_no_origin = cross_val_score(LinearRegression(), X_no_origin, y, \n",
    "                                    cv=5, scoring='r2')\n",
    "\n",
    "# MED origin\n",
    "X_with_origin = df_clean.drop(columns=[target])\n",
    "scores_with_origin = cross_val_score(LinearRegression(), X_with_origin, y, \n",
    "                                      cv=5, scoring='r2')\n",
    "\n",
    "print(\"=\" * 60)\n",
    "print(\"📊 CROSS-VALIDATION SAMMENLIGNING (5 splits)\")\n",
    "print(\"=\" * 60)\n",
    "print(f\"UDEN origin: R² = {scores_no_origin.mean():.3f} (±{scores_no_origin.std():.3f})\")\n",
    "print(f\"MED origin:  R² = {scores_with_origin.mean():.3f} (±{scores_with_origin.std():.3f})\")\n",
    "print(f\"\\nForbedring: {(scores_with_origin.mean() - scores_no_origin.mean())*100:.1f} procentpoint\")"
   ]
  },
  {
   "cell_type": "code",
   "execution_count": 128,
   "id": "dfa90b59-df3f-42c7-8496-20c3245cc4e3",
   "metadata": {},
   "outputs": [
    {
     "data": {
      "image/png": "[encoded data removed]",
      "text/plain": [
       "<Figure size 500x500 with 1 Axes>"
      ]
     },
     "metadata": {},
     "output_type": "display_data"
    },
    {
     "data": {
      "image/png": "[encoded data removed]",
      "text/plain": [
       "<Figure size 500x500 with 1 Axes>"
      ]
     },
     "metadata": {},
     "output_type": "display_data"
    }
   ],
   "source": [
    "# Actual vs Predicted (FINAL LASSO MODEL)\n",
    "plt.figure(figsize=(5,5))\n",
    "plt.scatter(y_test, y_test_pred, alpha=0.7)  # Brug y_test_pred fra best_model\n",
    "lo = min(y_test.min(), y_test_pred.min())\n",
    "hi = max(y_test.max(), y_test_pred.max())\n",
    "plt.plot([lo, hi], [lo, hi], 'r--', label='Perfect prediction')\n",
    "plt.xlabel(\"Faktisk mpg\")\n",
    "plt.ylabel(\"Forudsagt mpg\")\n",
    "plt.title(\"Actual vs Predicted (Lasso α=0.1)\")\n",
    "plt.legend()\n",
    "plt.show()\n",
    "\n",
    "# Residuals vs Predicted (FINAL LASSO MODEL)\n",
    "residuals = y_test - y_test_pred  # Brug y_test_pred\n",
    "plt.figure(figsize=(5,5))\n",
    "plt.scatter(y_test_pred, residuals, alpha=0.7)\n",
    "plt.axhline(0, color='r', linestyle=\"--\", label='Zero error')\n",
    "plt.xlabel(\"Forudsagt mpg\")\n",
    "plt.ylabel(\"Residual (faktisk - forudsagt)\")\n",
    "plt.title(\"Residuals vs Predicted (Lasso α=0.1)\")\n",
    "plt.legend()\n",
    "plt.show()"
   ]
  }
 ],
 "metadata": {
  "kernelspec": {
   "display_name": "Python 3 (ipykernel)",
   "language": "python",
   "name": "python3"
  },
  "language_info": {
   "codemirror_mode": {
    "name": "ipython",
    "version": 3
   },
   "file_extension": ".py",
   "mimetype": "text/x-python",
   "name": "python",
   "nbconvert_exporter": "python",
   "pygments_lexer": "ipython3",
   "version": "3.12.1"
  }
 },
 "nbformat": 4,
 "nbformat_minor": 5
}
