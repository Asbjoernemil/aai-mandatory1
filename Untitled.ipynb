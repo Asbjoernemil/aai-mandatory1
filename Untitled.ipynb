{
 "cells": [
  {
   "cell_type": "markdown",
   "id": "1a2bd08a-22af-4b31-8bf5-a0f3f1d48443",
   "metadata": {},
   "source": [
    "# MANDATORY ASSIGNMENT 1: REGRESSION PROBLEM\n",
    "## Problem: Givet bilens specifikationer, forudsig dens mpg"
   ]
  },
  {
   "cell_type": "code",
   "execution_count": 15,
   "id": "afefc064-5d73-4d1b-8361-c1f6af308e43",
   "metadata": {},
   "outputs": [],
   "source": [
    "# 1. Import Libraries\n",
    "import pandas as pd\n",
    "import numpy as np\n",
    "import matplotlib.pyplot as plt\n",
    "from sklearn.linear_model import LinearRegression\n",
    "from sklearn.model_selection import train_test_split\n",
    "from sklearn.metrics import mean_squared_error, root_mean_squared_error, r2_score, mean_absolute_error"
   ]
  },
  {
   "cell_type": "markdown",
   "id": "5e9cd2d7-17ac-4605-9354-384fc2897f73",
   "metadata": {},
   "source": [
    "# 2. Load and Explore Data"
   ]
  },
  {
   "cell_type": "code",
   "execution_count": 16,
   "id": "d81aa8e8-cff9-42b9-b05e-b23f7aefd70c",
   "metadata": {},
   "outputs": [
    {
     "name": "stdout",
     "output_type": "stream",
     "text": [
      "Dataset shape: (398, 9)\n",
      "\n",
      "First 5 rows:\n",
      "    mpg  cylinders  displacement horsepower  weight  acceleration  model year  \\\n",
      "0  18.0          8         307.0        130    3504          12.0          70   \n",
      "1  15.0          8         350.0        165    3693          11.5          70   \n",
      "2  18.0          8         318.0        150    3436          11.0          70   \n",
      "3  16.0          8         304.0        150    3433          12.0          70   \n",
      "4  17.0          8         302.0        140    3449          10.5          70   \n",
      "\n",
      "   origin                   car name  \n",
      "0       1  chevrolet chevelle malibu  \n",
      "1       1          buick skylark 320  \n",
      "2       1         plymouth satellite  \n",
      "3       1              amc rebel sst  \n",
      "4       1                ford torino  \n",
      "\n",
      "Data types:\n",
      "mpg             float64\n",
      "cylinders         int64\n",
      "displacement    float64\n",
      "horsepower       object\n",
      "weight            int64\n",
      "acceleration    float64\n",
      "model year        int64\n",
      "origin            int64\n",
      "car name         object\n",
      "dtype: object\n",
      "\n",
      "Basic statistics:\n",
      "              mpg   cylinders  displacement       weight  acceleration  \\\n",
      "count  398.000000  398.000000    398.000000   398.000000    398.000000   \n",
      "mean    23.514573    5.454774    193.425879  2970.424623     15.568090   \n",
      "std      7.815984    1.701004    104.269838   846.841774      2.757689   \n",
      "min      9.000000    3.000000     68.000000  1613.000000      8.000000   \n",
      "25%     17.500000    4.000000    104.250000  2223.750000     13.825000   \n",
      "50%     23.000000    4.000000    148.500000  2803.500000     15.500000   \n",
      "75%     29.000000    8.000000    262.000000  3608.000000     17.175000   \n",
      "max     46.600000    8.000000    455.000000  5140.000000     24.800000   \n",
      "\n",
      "       model year      origin  \n",
      "count  398.000000  398.000000  \n",
      "mean    76.010050    1.572864  \n",
      "std      3.697627    0.802055  \n",
      "min     70.000000    1.000000  \n",
      "25%     73.000000    1.000000  \n",
      "50%     76.000000    1.000000  \n",
      "75%     79.000000    2.000000  \n",
      "max     82.000000    3.000000  \n"
     ]
    }
   ],
   "source": [
    "# Load data\n",
    "df = pd.read_csv(\"data/cars.csv\")\n",
    "\n",
    "print(\"Dataset shape:\", df.shape)\n",
    "print(\"\\nFirst 5 rows:\")\n",
    "print(df.head())\n",
    "\n",
    "print(\"\\nData types:\")\n",
    "print(df.dtypes)\n",
    "\n",
    "print(\"\\nBasic statistics:\")\n",
    "print(df.describe())"
   ]
  },
  {
   "cell_type": "markdown",
   "id": "4355d1e6-c88c-4bfd-9f28-1155e525a7df",
   "metadata": {},
   "source": [
    "# 3. Data Cleaning"
   ]
  },
  {
   "cell_type": "code",
   "execution_count": 17,
   "id": "7f863101-99b5-4c50-a438-ba36d3f7722c",
   "metadata": {},
   "outputs": [
    {
     "name": "stdout",
     "output_type": "stream",
     "text": [
      "Missing values per column:\n",
      "mpg             0\n",
      "cylinders       0\n",
      "displacement    0\n",
      "horsepower      6\n",
      "weight          0\n",
      "acceleration    0\n",
      "model year      0\n",
      "origin          0\n",
      "car name        0\n",
      "dtype: int64\n"
     ]
    }
   ],
   "source": [
    "# convert '?' to NaN and make numeric\n",
    "df['horsepower'] = df['horsepower'].replace('?', np.nan)\n",
    "df['horsepower'] = pd.to_numeric(df['horsepower'])\n",
    "\n",
    "print(f\"Missing values per column:\")\n",
    "print(df.isnull().sum())"
   ]
  },
  {
   "cell_type": "code",
   "execution_count": 18,
   "id": "5d3ec50c-defe-47bd-9c92-85b46da69adf",
   "metadata": {},
   "outputs": [
    {
     "name": "stdout",
     "output_type": "stream",
     "text": [
      "Rækker i original: 398\n",
      "Rækker efter dropna: 392  (fjernet 6)\n",
      "\n",
      "Dtypes (udvalgte kolonner):\n",
      "cylinders         int64\n",
      "displacement    float64\n",
      "horsepower      float64\n",
      "weight            int64\n",
      "acceleration    float64\n",
      "model year        int64\n",
      "origin            int64\n",
      "mpg             float64\n",
      "dtype: object\n",
      "\n",
      "Origin værdier:\n",
      "origin\n",
      "1    245\n",
      "2     68\n",
      "3     79\n",
      "Name: count, dtype: int64\n"
     ]
    }
   ],
   "source": [
    "# 1) Mål og features (vi udelader 'car name' i første omgang)\n",
    "target = \"mpg\"\n",
    "features = [\"cylinders\", \"displacement\", \"horsepower\", \"weight\",\n",
    "            \"acceleration\", \"model year\", \"origin\"]\n",
    "\n",
    "# 2) Lav en ren kopi med kun de kolonner vi skal bruge\n",
    "df_clean = df[features + [target]].dropna().copy()\n",
    "\n",
    "print(f\"Rækker i original: {len(df)}\")\n",
    "print(f\"Rækker efter dropna: {len(df_clean)}  (fjernet {len(df) - len(df_clean)})\")\n",
    "\n",
    "# 3) Sanity check: datatyper for de valgte kolonner\n",
    "print(\"\\nDtypes (udvalgte kolonner):\")\n",
    "print(df_clean.dtypes)\n",
    "\n",
    "# 4) Tjek fornuftige værdier i 'origin' (kategorisk 1/2/3)\n",
    "print(\"\\nOrigin værdier:\")\n",
    "print(df_clean[\"origin\"].value_counts().sort_index())"
   ]
  },
  {
   "cell_type": "code",
   "execution_count": 19,
   "id": "cd8d3f35-7fe0-4614-8709-81cc6ea51a13",
   "metadata": {},
   "outputs": [
    {
     "data": {
      "text/plain": [
       "((313, 7), (79, 7), (313,), (79,))"
      ]
     },
     "execution_count": 19,
     "metadata": {},
     "output_type": "execute_result"
    }
   ],
   "source": [
    "X = df_clean[features]\n",
    "y = df_clean[target]\n",
    "\n",
    "X_train, X_test, y_train, y_test = train_test_split(\n",
    "    X, y, test_size=0.20, random_state=42\n",
    ")\n",
    "\n",
    "X_train.shape, X_test.shape, y_train.shape, y_test.shape"
   ]
  },
  {
   "cell_type": "code",
   "execution_count": 20,
   "id": "b8a11b04-82bf-4de6-bfbd-baef8e39cc20",
   "metadata": {},
   "outputs": [
    {
     "name": "stdout",
     "output_type": "stream",
     "text": [
      "RMSE: 3.27 mpg\n",
      "MAE : 2.42 mpg\n",
      "R²  : 0.790\n"
     ]
    }
   ],
   "source": [
    "lr = LinearRegression().fit(X_train, y_train)\n",
    "y_pred = lr.predict(X_test)\n",
    "\n",
    "rmse = np.sqrt(mean_squared_error(y_test, y_pred))\n",
    "mae  = mean_absolute_error(y_test, y_pred)\n",
    "r2   = r2_score(y_test, y_pred)\n",
    "\n",
    "print(f\"RMSE: {rmse:.2f} mpg\")\n",
    "print(f\"MAE : {mae:.2f} mpg\")\n",
    "print(f\"R²  : {r2:.3f}\")"
   ]
  },
  {
   "cell_type": "code",
   "execution_count": 21,
   "id": "a1b7c289-7370-44fd-9c93-8199031c8e4c",
   "metadata": {},
   "outputs": [
    {
     "name": "stdout",
     "output_type": "stream",
     "text": [
      "================================================================================\n",
      "KONKRETE EKSEMPLER: Forudsigelse af MPG for nye biler\n",
      "================================================================================\n",
      "\n",
      "📋 Eksempel: 5 biler fra test sættet\n",
      "\n",
      "     cylinders  displacement  horsepower  weight  acceleration  model year  origin  Actual_MPG  Predicted_MPG     Error\n",
      "79           4          96.0        69.0    2189          18.0          72       2        26.0      25.841562  0.158438\n",
      "276          4         121.0       115.0    2795          15.7          78       2        21.6      26.036745 -4.436745\n",
      "248          4          91.0        60.0    1800          16.4          78       3        36.1      34.506018  1.593982\n",
      "56           4          91.0        70.0    1955          20.5          71       1        26.0      24.895532  1.104468\n",
      "393          4         140.0        86.0    2790          15.6          82       1        27.0      28.425987 -1.425987\n",
      "\n",
      "================================================================================\n",
      "Fortolkning:\n",
      "- Vi kender bilens specifikationer (cylinders, horsepower, weight osv.)\n",
      "- Modellen forudsiger MPG baseret på disse\n",
      "- Vi sammenligner med den rigtige MPG for at se hvor god modellen er\n",
      "================================================================================\n"
     ]
    }
   ],
   "source": [
    "# Tag de første 5 test biler\n",
    "print(\"=\" * 80)\n",
    "print(\"KONKRETE EKSEMPLER: Forudsigelse af MPG for nye biler\")\n",
    "print(\"=\" * 80)\n",
    "\n",
    "# Vis features for de første test biler\n",
    "test_examples = pd.DataFrame(X_test.head(5))\n",
    "test_examples['Actual_MPG'] = y_test.head(5).values\n",
    "test_examples['Predicted_MPG'] = y_pred[:5]\n",
    "test_examples['Error'] = test_examples['Actual_MPG'] - test_examples['Predicted_MPG']\n",
    "\n",
    "print(\"\\n📋 Eksempel: 5 biler fra test sættet\\n\")\n",
    "print(test_examples.to_string())\n",
    "\n",
    "print(\"\\n\" + \"=\" * 80)\n",
    "print(\"Fortolkning:\")\n",
    "print(\"- Vi kender bilens specifikationer (cylinders, horsepower, weight osv.)\")\n",
    "print(\"- Modellen forudsiger MPG baseret på disse\")\n",
    "print(\"- Vi sammenligner med den rigtige MPG for at se hvor god modellen er\")\n",
    "print(\"=\" * 80)"
   ]
  },
  {
   "cell_type": "code",
   "execution_count": 23,
   "id": "d168d484-67a5-45d1-a798-668c15ec988c",
   "metadata": {},
   "outputs": [],
   "source": [
    "new_car = pd.DataFrame({\n",
    "    'cylinders':   [5],\n",
    "    'displacement':[130],    #\n",
    "    'horsepower':  [197],    # DIN/net\n",
    "    'weight':      [2844],   # lbs (≈1290 kg)\n",
    "    'acceleration':[6.7],    # 0–60 mph (s)\n",
    "    'model year':  [80],     # 1980\n",
    "    'origin':      [2]       # 1=USA, 2=Europe, 3=Japan\n",
    "})"
   ]
  },
  {
   "cell_type": "code",
   "execution_count": 24,
   "id": "1483bbbb-b9ef-49e0-91d4-890846246c93",
   "metadata": {},
   "outputs": [
    {
     "name": "stdout",
     "output_type": "stream",
     "text": [
      "================================================================================\n",
      "🚗 NY BIL - FORUDSIGELSE\n",
      "================================================================================\n",
      "\n",
      "📋 Bil specifikationer:\n",
      "   cylinders: 5\n",
      "   displacement: 130\n",
      "   horsepower: 197\n",
      "   weight: 2844\n",
      "   acceleration: 6.7\n",
      "   model year: 80\n",
      "   origin: 2\n",
      "\n",
      "🎯 Forudsagt MPG: 24.97 mpg\n",
      "   vil sandsynligvis have en brændstofeffektivitet på cirka 25.0 mpg\n",
      "================================================================================\n"
     ]
    }
   ],
   "source": [
    "predicted_mpg = lr.predict(new_car)[0]\n",
    "\n",
    "print(\"=\" * 80)\n",
    "print(\"🚗 NY BIL - FORUDSIGELSE\")\n",
    "print(\"=\" * 80)\n",
    "print(\"\\n📋 Bil specifikationer:\")\n",
    "for col in features:\n",
    "    print(f\"   {col}: {new_car[col].values[0]}\")\n",
    "\n",
    "print(f\"\\n🎯 Forudsagt MPG: {predicted_mpg:.2f} mpg\")\n",
    "print(f\"   vil sandsynligvis have en brændstofeffektivitet på cirka {predicted_mpg:.1f} mpg\")\n",
    "print(\"=\" * 80)"
   ]
  },
  {
   "cell_type": "code",
   "execution_count": 25,
   "id": "b4562d6b-860a-448f-95e8-77e1e7e88350",
   "metadata": {},
   "outputs": [
    {
     "data": {
      "image/png": "[encoded data removed]",
      "text/plain": [
       "<Figure size 500x500 with 1 Axes>"
      ]
     },
     "metadata": {},
     "output_type": "display_data"
    },
    {
     "data": {
      "image/png": "[encoded data removed]",
      "text/plain": [
       "<Figure size 500x500 with 1 Axes>"
      ]
     },
     "metadata": {},
     "output_type": "display_data"
    }
   ],
   "source": [
    "# Actual vs Predicted\n",
    "plt.figure(figsize=(5,5))\n",
    "plt.scatter(y_test, y_pred, alpha=0.7)\n",
    "lo = min(y_test.min(), y_pred.min())\n",
    "hi = max(y_test.max(), y_pred.max())\n",
    "plt.plot([lo, hi], [lo, hi])\n",
    "plt.xlabel(\"Faktisk mpg\")\n",
    "plt.ylabel(\"Forudsagt mpg\")\n",
    "plt.title(\"Actual vs Predicted\")\n",
    "plt.show()\n",
    "\n",
    "# Residuals vs Predicted\n",
    "residuals = y_test - y_pred\n",
    "plt.figure(figsize=(5,5))\n",
    "plt.scatter(y_pred, residuals, alpha=0.7)\n",
    "plt.axhline(0, linestyle=\"--\")\n",
    "plt.xlabel(\"Forudsagt mpg\")\n",
    "plt.ylabel(\"Residual (faktisk - forudsagt)\")\n",
    "plt.title(\"Residuals vs Predicted\")\n",
    "plt.show()"
   ]
  }
 ],
 "metadata": {
  "kernelspec": {
   "display_name": "Python 3 (ipykernel)",
   "language": "python",
   "name": "python3"
  },
  "language_info": {
   "codemirror_mode": {
    "name": "ipython",
    "version": 3
   },
   "file_extension": ".py",
   "mimetype": "text/x-python",
   "name": "python",
   "nbconvert_exporter": "python",
   "pygments_lexer": "ipython3",
   "version": "3.12.1"
  }
 },
 "nbformat": 4,
 "nbformat_minor": 5
}
