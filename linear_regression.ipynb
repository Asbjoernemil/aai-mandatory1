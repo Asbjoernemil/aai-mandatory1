{
 "cells": [
  {
   "cell_type": "code",
   "execution_count": 2,
   "id": "794118d8-f3dd-48a3-ae13-79d5ad89b7f3",
   "metadata": {},
   "outputs": [],
   "source": [
    "# 1. Import Libraries\n",
    "import pandas as pd\n",
    "import numpy as np\n",
    "import matplotlib.pyplot as plt\n",
    "from sklearn.linear_model import LinearRegression, Ridge, Lasso\n",
    "from sklearn.model_selection import train_test_split\n",
    "from sklearn.metrics import mean_squared_error, r2_score, mean_absolute_error"
   ]
  },
  {
   "cell_type": "code",
   "execution_count": 3,
   "id": "a5c7da58-e04b-44e2-93dd-143b6107982f",
   "metadata": {},
   "outputs": [
    {
     "name": "stdout",
     "output_type": "stream",
     "text": [
      "Dataset shape: (398, 9)\n",
      "\n",
      "First 5 rows:\n",
      "    mpg  cylinders  displacement horsepower  weight  acceleration  model year  \\\n",
      "0  18.0          8         307.0        130    3504          12.0          70   \n",
      "1  15.0          8         350.0        165    3693          11.5          70   \n",
      "2  18.0          8         318.0        150    3436          11.0          70   \n",
      "3  16.0          8         304.0        150    3433          12.0          70   \n",
      "4  17.0          8         302.0        140    3449          10.5          70   \n",
      "\n",
      "   origin                   car name  \n",
      "0       1  chevrolet chevelle malibu  \n",
      "1       1          buick skylark 320  \n",
      "2       1         plymouth satellite  \n",
      "3       1              amc rebel sst  \n",
      "4       1                ford torino  \n",
      "\n",
      "Data types:\n",
      "mpg             float64\n",
      "cylinders         int64\n",
      "displacement    float64\n",
      "horsepower       object\n",
      "weight            int64\n",
      "acceleration    float64\n",
      "model year        int64\n",
      "origin            int64\n",
      "car name         object\n",
      "dtype: object\n"
     ]
    }
   ],
   "source": [
    "# 2. Load and Explore Data\n",
    "df = pd.read_csv(\"data/cars.csv\")\n",
    "\n",
    "print(\"Dataset shape:\", df.shape)\n",
    "print(\"\\nFirst 5 rows:\")\n",
    "print(df.head())\n",
    "print(\"\\nData types:\")\n",
    "print(df.dtypes)"
   ]
  },
  {
   "cell_type": "code",
   "execution_count": 4,
   "id": "f31fee39-247c-4bf6-b376-5c3b08d50d5b",
   "metadata": {},
   "outputs": [
    {
     "name": "stdout",
     "output_type": "stream",
     "text": [
      "mpg             0\n",
      "cylinders       0\n",
      "displacement    0\n",
      "horsepower      6\n",
      "weight          0\n",
      "acceleration    0\n",
      "model year      0\n",
      "origin          0\n",
      "car name        0\n",
      "dtype: int64\n"
     ]
    }
   ],
   "source": [
    "# 3. Data Cleaning - Handle Missing Values\n",
    "df['horsepower'] = df['horsepower'].replace('?', np.nan)\n",
    "df['horsepower'] = pd.to_numeric(df['horsepower'])\n",
    "print(df.isnull().sum())"
   ]
  },
  {
   "cell_type": "code",
   "execution_count": 5,
   "id": "18892b00-dadc-4b58-a2d8-7cbc70e92468",
   "metadata": {},
   "outputs": [
    {
     "name": "stdout",
     "output_type": "stream",
     "text": [
      "392 (removed 6)\n"
     ]
    },
    {
     "data": {
      "text/plain": [
       "['cylinders',\n",
       " 'displacement',\n",
       " 'horsepower',\n",
       " 'weight',\n",
       " 'acceleration',\n",
       " 'model year',\n",
       " 'mpg',\n",
       " 'origin_2',\n",
       " 'origin_3']"
      ]
     },
     "execution_count": 5,
     "metadata": {},
     "output_type": "execute_result"
    }
   ],
   "source": [
    "# 4. Feature\n",
    "target = \"mpg\"\n",
    "features = [\"cylinders\", \"displacement\", \"horsepower\", \"weight\",\n",
    "            \"acceleration\", \"model year\", \"origin\"]\n",
    "\n",
    "# Select features and drop missing values\n",
    "df_clean = df[features + [target]].dropna().copy()\n",
    "\n",
    "# One-hot encode origin\n",
    "df_clean = pd.get_dummies(df_clean, columns=['origin'], prefix='origin', drop_first=True)\n",
    "\n",
    "print(f\"{len(df_clean)} (removed {len(df) - len(df_clean)})\")\n",
    "\n",
    "df_clean.columns.tolist()"
   ]
  },
  {
   "cell_type": "code",
   "execution_count": 6,
   "id": "f2cf7d4e-0eb2-4108-9ec3-31985b81b2b7",
   "metadata": {},
   "outputs": [
    {
     "name": "stdout",
     "output_type": "stream",
     "text": [
      "Training set:   274 samples\n",
      "Validation set: 59 samples\n",
      "Test set:       59 samples\n"
     ]
    }
   ],
   "source": [
    "# 5. Split Data into Train/Validation/Test Sets (70%/15%/15%)\n",
    "X = df_clean.drop(columns=[target])\n",
    "y = df_clean[target]\n",
    "\n",
    "# Split: separate test set\n",
    "X_train_full, X_test, y_train_full, y_test = train_test_split(\n",
    "    X, y, test_size=0.15, random_state=42\n",
    ")\n",
    "\n",
    "# Split: separate validation from training\n",
    "X_train, X_val, y_train, y_val = train_test_split(\n",
    "    X_train_full, y_train_full, test_size=0.176, random_state=42\n",
    ")\n",
    "\n",
    "print(f\"Training set:   {len(X_train)} samples\")\n",
    "print(f\"Validation set: {len(X_val)} samples\")\n",
    "print(f\"Test set:       {len(X_test)} samples\")"
   ]
  },
  {
   "cell_type": "code",
   "execution_count": 7,
   "id": "b3c07baa-6124-42a4-bc90-0c9aa80ee1f3",
   "metadata": {},
   "outputs": [
    {
     "name": "stdout",
     "output_type": "stream",
     "text": [
      "Training   | RMSE: 3.29 mpg | R²: 0.823\n",
      "Validation | RMSE: 3.53 mpg | R²: 0.790\n"
     ]
    }
   ],
   "source": [
    "# 6. Train Baseline Model\n",
    "lr = LinearRegression()\n",
    "lr.fit(X_train, y_train)\n",
    "\n",
    "# Evaluate TRAINING\n",
    "y_train_pred = lr.predict(X_train)\n",
    "train_rmse = np.sqrt(mean_squared_error(y_train, y_train_pred))\n",
    "train_r2 = r2_score(y_train, y_train_pred)\n",
    "\n",
    "# Evaluate VALIDATION\n",
    "y_val_pred = lr.predict(X_val)\n",
    "val_rmse = np.sqrt(mean_squared_error(y_val, y_val_pred))\n",
    "val_r2 = r2_score(y_val, y_val_pred)\n",
    "\n",
    "print(f\"Training   | RMSE: {train_rmse:.2f} mpg | R²: {train_r2:.3f}\")\n",
    "print(f\"Validation | RMSE: {val_rmse:.2f} mpg | R²: {val_r2:.3f}\")\n"
   ]
  },
  {
   "cell_type": "code",
   "execution_count": 8,
   "id": "b497feb3-9c05-4ab8-bf62-f68679be56d0",
   "metadata": {},
   "outputs": [
    {
     "name": "stdout",
     "output_type": "stream",
     "text": [
      "HYPERPARAMETER (on validation set)\n",
      "Linear Regression    | R²: 0.790 | RMSE: 3.53\n",
      "Ridge (α=0.1)        | R²: 0.790 | RMSE: 3.53\n",
      "Ridge (α=1.0)        | R²: 0.792 | RMSE: 3.52\n",
      "Ridge (α=10)         | R²: 0.798 | RMSE: 3.46\n",
      "Lasso (α=0.1)        | R²: 0.802 | RMSE: 3.43\n"
     ]
    }
   ],
   "source": [
    "# 7. Fine Tuning - Test Multiple Models\n",
    "models = {\n",
    "    'Linear Regression': LinearRegression(),\n",
    "    'Ridge (α=0.1)': Ridge(alpha=0.1),\n",
    "    'Ridge (α=1.0)': Ridge(alpha=1.0),\n",
    "    'Ridge (α=10)': Ridge(alpha=10),\n",
    "    'Lasso (α=0.1)': Lasso(alpha=0.1),\n",
    "}\n",
    "\n",
    "print(\"HYPERPARAMETER (on validation set)\")\n",
    "\n",
    "\n",
    "results = []\n",
    "for name, model in models.items():\n",
    "    model.fit(X_train, y_train)\n",
    "    y_val_pred = model.predict(X_val)\n",
    "    \n",
    "    val_r2 = r2_score(y_val, y_val_pred)\n",
    "    val_rmse = np.sqrt(mean_squared_error(y_val, y_val_pred))\n",
    "    \n",
    "    results.append({'Model': name, 'R²': val_r2, 'RMSE': val_rmse})\n",
    "    print(f\"{name:20s} | R²: {val_r2:.3f} | RMSE: {val_rmse:.2f}\")"
   ]
  },
  {
   "cell_type": "code",
   "execution_count": 9,
   "id": "ec052a5d-a3ca-4c22-9d6b-89daf2ad7623",
   "metadata": {},
   "outputs": [
    {
     "name": "stdout",
     "output_type": "stream",
     "text": [
      "RMSE: 2.99 mpg\n",
      "MAE:  2.30 mpg\n",
      "R²:   0.847\n"
     ]
    }
   ],
   "source": [
    "# Train model on Lasso\n",
    "best_model = Lasso(alpha=0.1)\n",
    "best_model.fit(X_train_full, y_train_full)\n",
    "\n",
    "# Evaluate on TEST set\n",
    "y_test_pred = best_model.predict(X_test)\n",
    "test_rmse = np.sqrt(mean_squared_error(y_test, y_test_pred))\n",
    "test_mae = mean_absolute_error(y_test, y_test_pred)\n",
    "test_r2 = r2_score(y_test, y_test_pred)\n",
    "\n",
    "print(f\"RMSE: {test_rmse:.2f} mpg\")\n",
    "print(f\"MAE:  {test_mae:.2f} mpg\")\n",
    "print(f\"R²:   {test_r2:.3f}\")\n"
   ]
  },
  {
   "cell_type": "code",
   "execution_count": 16,
   "id": "322b64b2-63c4-45c5-987e-f84d605d6164",
   "metadata": {},
   "outputs": [
    {
     "data": {
      "image/png": "[encoded data removed]",
      "text/plain": [
       "<Figure size 800x600 with 1 Axes>"
      ]
     },
     "metadata": {},
     "output_type": "display_data"
    }
   ],
   "source": [
    "# 9. Visualization\n",
    "plt.figure(figsize=(8, 6))\n",
    "plt.scatter(y_test, y_test_pred, alpha=0.6, edgecolors='k', linewidth=0.5)\n",
    "\n",
    "min_val = min(y_test.min(), y_test_pred.min())\n",
    "max_val = max(y_test.max(), y_test_pred.max())\n",
    "plt.plot([min_val, max_val], [min_val, max_val], 'r--', lw=2, label='Perfect prediction')\n",
    "\n",
    "plt.xlabel('Actual MPG', fontsize=12)\n",
    "plt.ylabel('Predicted MPG', fontsize=12)\n",
    "plt.title('Actual vs Predicted MPG', fontsize=14, fontweight='bold')\n",
    "plt.legend()\n",
    "plt.grid(True, alpha=0.3)\n",
    "plt.tight_layout()\n",
    "\n",
    "\n",
    "plt.savefig('regression_prediction.png', dpi=300, bbox_inches='tight')\n",
    "plt.show()"
   ]
  },
  {
   "cell_type": "code",
   "execution_count": 14,
   "id": "533c2a8f-ed40-4dfc-8d57-c9e8e1055def",
   "metadata": {},
   "outputs": [
    {
     "data": {
      "text/plain": [
       "<Figure size 640x480 with 0 Axes>"
      ]
     },
     "metadata": {},
     "output_type": "display_data"
    }
   ],
   "source": []
  },
  {
   "cell_type": "code",
   "execution_count": null,
   "id": "8e1c7dd8-915c-478e-9e2c-79510ac08ffc",
   "metadata": {},
   "outputs": [],
   "source": []
  },
  {
   "cell_type": "code",
   "execution_count": null,
   "id": "ecd27ceb-1ac7-416c-866a-013e1aea6f18",
   "metadata": {},
   "outputs": [],
   "source": []
  }
 ],
 "metadata": {
  "kernelspec": {
   "display_name": "Python 3 (ipykernel)",
   "language": "python",
   "name": "python3"
  },
  "language_info": {
   "codemirror_mode": {
    "name": "ipython",
    "version": 3
   },
   "file_extension": ".py",
   "mimetype": "text/x-python",
   "name": "python",
   "nbconvert_exporter": "python",
   "pygments_lexer": "ipython3",
   "version": "3.12.1"
  }
 },
 "nbformat": 4,
 "nbformat_minor": 5
}
