{
 "cells": [
  {
   "cell_type": "markdown",
   "id": "bb75d68d",
   "metadata": {},
   "source": [
    "# MANDATORY ASSIGNMENT 1: LOGISTIC REGRESSION PROBLEM\n",
    "## Problem: Givet bilens specifikationer, klassificer om den er fuel-efficient"
   ]
  },
  {
   "cell_type": "code",
<<<<<<< HEAD
   "execution_count": 35,
=======
   "execution_count": 1,
>>>>>>> b8f36e0d97de398581aa96a40b905749b46d7379
   "id": "901ff5ce",
   "metadata": {
    "vscode": {
     "languageId": "plaintext"
    }
   },
   "outputs": [],
   "source": [
    "import pandas as pd\n",
    "import numpy as np\n",
    "import matplotlib.pyplot as plt\n",
    "from sklearn.linear_model import LogisticRegression\n",
    "from sklearn.model_selection import train_test_split\n",
    "from sklearn.metrics import accuracy_score, precision_score, recall_score, f1_score, confusion_matrix, classification_report"
   ]
  },
  {
   "cell_type": "markdown",
   "id": "978700dd-7f12-4de2-85d0-f06f804f6ef6",
   "metadata": {},
   "source": [
<<<<<<< HEAD
    "# 2. Load Data"
=======
    "# 2. Load and Explore Data"
>>>>>>> b8f36e0d97de398581aa96a40b905749b46d7379
   ]
  },
  {
   "cell_type": "code",
<<<<<<< HEAD
   "execution_count": 102,
   "id": "e0a69405-038a-4242-a79f-745f17d3b3db",
   "metadata": {},
   "outputs": [],
   "source": [
    "df = pd.read_csv(\"data/cars.csv\")"
=======
   "execution_count": 2,
   "id": "e0a69405-038a-4242-a79f-745f17d3b3db",
   "metadata": {},
   "outputs": [
    {
     "name": "stdout",
     "output_type": "stream",
     "text": [
      "Dataset shape: (398, 9)\n",
      "\n",
      "First 5 rows:\n",
      "    mpg  cylinders  displacement horsepower  weight  acceleration  model year  \\\n",
      "0  18.0          8         307.0        130    3504          12.0          70   \n",
      "1  15.0          8         350.0        165    3693          11.5          70   \n",
      "2  18.0          8         318.0        150    3436          11.0          70   \n",
      "3  16.0          8         304.0        150    3433          12.0          70   \n",
      "4  17.0          8         302.0        140    3449          10.5          70   \n",
      "\n",
      "   origin                   car name  \n",
      "0       1  chevrolet chevelle malibu  \n",
      "1       1          buick skylark 320  \n",
      "2       1         plymouth satellite  \n",
      "3       1              amc rebel sst  \n",
      "4       1                ford torino  \n"
     ]
    }
   ],
   "source": [
    "df = pd.read_csv(\"data/cars.csv\")\n",
    "\n",
    "print(\"Dataset shape:\", df.shape)\n",
    "print(\"\\nFirst 5 rows:\")\n",
    "print(df.head())"
>>>>>>> b8f36e0d97de398581aa96a40b905749b46d7379
   ]
  },
  {
   "cell_type": "markdown",
   "id": "0b4d3352-fdf6-411c-b814-3a03ca6418d1",
   "metadata": {},
   "source": [
    "# 3. Data Cleaning (samme som regression)\n"
   ]
  },
  {
   "cell_type": "code",
<<<<<<< HEAD
   "execution_count": 103,
   "id": "5c685728-72f0-494c-ba7e-4d8fe38e0db2",
   "metadata": {},
   "outputs": [],
=======
   "execution_count": 3,
   "id": "5c685728-72f0-494c-ba7e-4d8fe38e0db2",
   "metadata": {},
   "outputs": [
    {
     "name": "stdout",
     "output_type": "stream",
     "text": [
      "\n",
      "Rækker i original: 398\n",
      "Rækker efter dropna: 392  (fjernet 6)\n"
     ]
    }
   ],
>>>>>>> b8f36e0d97de398581aa96a40b905749b46d7379
   "source": [
    "df['horsepower'] = df['horsepower'].replace('?', np.nan)\n",
    "df['horsepower'] = pd.to_numeric(df['horsepower'])\n",
    "\n",
    "target = \"mpg\"\n",
    "features = [\"cylinders\", \"displacement\", \"horsepower\", \"weight\",\n",
    "            \"acceleration\", \"model year\", \"origin\"]\n",
    "\n",
<<<<<<< HEAD
    "df_clean = df[features + [target]].dropna().copy()"
=======
    "df_clean = df[features + [target]].dropna().copy()\n",
    "\n",
    "print(f\"\\nRækker i original: {len(df)}\")\n",
    "print(f\"Rækker efter dropna: {len(df_clean)}  (fjernet {len(df) - len(df_clean)})\")"
>>>>>>> b8f36e0d97de398581aa96a40b905749b46d7379
   ]
  },
  {
   "cell_type": "markdown",
   "id": "d57e9d11-785a-47fc-a4a3-66905efdf070",
   "metadata": {},
   "source": [
    "# 4. Create Binary Target Variable\n"
   ]
  },
  {
   "cell_type": "code",
<<<<<<< HEAD
   "execution_count": 38,
=======
   "execution_count": 4,
>>>>>>> b8f36e0d97de398581aa96a40b905749b46d7379
   "id": "9dc90877-d8b2-4370-9d58-76330462035c",
   "metadata": {},
   "outputs": [
    {
     "name": "stdout",
     "output_type": "stream",
     "text": [
      "\n",
      "Median MPG: 22.8\n",
      "\n",
      "Antal fuel-efficient biler (mpg > 22.8): 196\n",
      "Antal ikke fuel-efficient biler: 196\n"
     ]
    }
   ],
   "source": [
<<<<<<< HEAD
    "# Vi bruger medianen til at definere om bilerne er \"fuel-efficient\"\n",
=======
    "# Vi bruger medianen som threshold for at definere \"fuel-efficient\"\n",
>>>>>>> b8f36e0d97de398581aa96a40b905749b46d7379
    "median_mpg = df_clean[target].median()\n",
    "print(f\"\\nMedian MPG: {median_mpg:.1f}\")\n",
    "\n",
    "# Opret binær målvariabel: 1 hvis mpg > median, 0 ellers\n",
    "df_clean['is_efficient'] = (df_clean[target] > median_mpg).astype(int)\n",
    "\n",
    "print(f\"\\nAntal fuel-efficient biler (mpg > {median_mpg:.1f}): {df_clean['is_efficient'].sum()}\")\n",
    "print(f\"Antal ikke fuel-efficient biler: {len(df_clean) - df_clean['is_efficient'].sum()}\")"
   ]
  },
  {
   "cell_type": "markdown",
   "id": "22e7362d-b531-4cd9-bb75-e82385eb917f",
   "metadata": {},
   "source": [
    "# 5. Prepare Features and Target\n"
   ]
  },
  {
   "cell_type": "code",
<<<<<<< HEAD
   "execution_count": 39,
=======
   "execution_count": 5,
>>>>>>> b8f36e0d97de398581aa96a40b905749b46d7379
   "id": "cca33d0b-0eae-40f1-86c6-f6f6b4d3cce0",
   "metadata": {},
   "outputs": [
    {
     "name": "stdout",
     "output_type": "stream",
     "text": [
      "\n",
      "Training set: 313 samples\n",
      "Test set: 79 samples\n"
     ]
    }
   ],
   "source": [
    "X = df_clean[features]\n",
    "y = df_clean['is_efficient']\n",
    "\n",
    "X_train, X_test, y_train, y_test = train_test_split(\n",
    "    X, y, test_size=0.20, random_state=42\n",
    ")\n",
    "\n",
    "print(f\"\\nTraining set: {X_train.shape[0]} samples\")\n",
    "print(f\"Test set: {X_test.shape[0]} samples\")"
   ]
  },
  {
   "cell_type": "markdown",
   "id": "3541792b-43a3-4385-80d7-ca8798f18ce7",
   "metadata": {},
   "source": [
    "# 5.1 Feature Scaling"
   ]
  },
  {
   "cell_type": "code",
<<<<<<< HEAD
   "execution_count": 157,
=======
   "execution_count": 6,
>>>>>>> b8f36e0d97de398581aa96a40b905749b46d7379
   "id": "1986e5f6-7940-42ee-8fbc-4432e630b497",
   "metadata": {},
   "outputs": [
    {
     "name": "stdout",
     "output_type": "stream",
     "text": [
<<<<<<< HEAD
      "\n",
      "Feature scaling: FØR -> EFTER\n",
      "Weight: 3620 -> 0.75\n"
=======
      "FØR SCALING (første bil i træningssæt):\n",
      "cylinders          6.0\n",
      "displacement     225.0\n",
      "horsepower       110.0\n",
      "weight          3620.0\n",
      "acceleration      18.7\n",
      "model year        78.0\n",
      "origin             1.0\n",
      "\n",
      "EFTER SCALING (samme bil):\n",
      "cylinders       0.304862\n",
      "displacement    0.284578\n",
      "horsepower      0.141429\n",
      "weight          0.754803\n",
      "acceleration    1.121759\n",
      "model year      0.494528\n",
      "origin         -0.689825\n",
      "\n",
      "Features er nu scaled til mean=0, std=1\n",
      "Dette gør det nemmere for modellen at lære og sammenligne features\n"
>>>>>>> b8f36e0d97de398581aa96a40b905749b46d7379
     ]
    }
   ],
   "source": [
    "from sklearn.preprocessing import StandardScaler\n",
    "\n",
    "scaler = StandardScaler()\n",
    "X_train_scaled = scaler.fit_transform(X_train)\n",
    "X_test_scaled = scaler.transform(X_test)\n",
    "\n",
<<<<<<< HEAD
    "print(f\"\\nFeature scaling: FØR -> EFTER\")\n",
    "print(f\"Weight: {X_train.iloc[0]['weight']:.0f} -> {X_train_scaled[0][3]:.2f}\")"
=======
    "print(\"FØR SCALING (første bil i træningssæt):\")\n",
    "print(X_train.iloc[0].to_string())\n",
    "print(\"\\nEFTER SCALING (samme bil):\")\n",
    "scaled_series = pd.Series(X_train_scaled[0], index=X_train.columns)\n",
    "print(scaled_series.to_string())\n",
    "print(\"\\nFeatures er nu scaled til mean=0, std=1\")\n",
    "print(\"Dette gør det nemmere for modellen at lære og sammenligne features\")"
>>>>>>> b8f36e0d97de398581aa96a40b905749b46d7379
   ]
  },
  {
   "cell_type": "markdown",
   "id": "333b2760-7677-4f5c-a7c7-e7146955dc20",
   "metadata": {},
   "source": [
    "# 6. Train Logistic Regression Model\n"
   ]
  },
  {
   "cell_type": "code",
<<<<<<< HEAD
   "execution_count": 158,
=======
   "execution_count": 7,
>>>>>>> b8f36e0d97de398581aa96a40b905749b46d7379
   "id": "c4dce525-8c6c-4fa8-887f-c0fe5fb90caf",
   "metadata": {},
   "outputs": [
    {
     "name": "stdout",
     "output_type": "stream",
     "text": [
<<<<<<< HEAD
      "\n",
      "Bedste C: 0.01\n",
      "CV accuracy: 0.9171\n"
=======
      "================================================================================\n",
      "HYPERPARAMETER TUNING - Finder de bedste indstillinger\n",
      "================================================================================\n",
      "\n",
      "Tester 5 forskellige C-værdier: [0.01, 0.1, 1, 10, 100]\n",
      "Med 5-fold cross-validation betyder det 5 × 5 = 25 modeller trænes\n",
      "Fitting 5 folds for each of 5 candidates, totalling 25 fits\n",
      "\n",
      "================================================================================\n",
      "RESULTATER\n",
      "================================================================================\n",
      "Bedste C-værdi: 0.01\n",
      "Bedste CV score: 0.9171 (91.71%)\n",
      "\n",
      "Alle testede C-værdier og deres score:\n",
      "  C =   0.01 → Accuracy: 0.9171\n",
      "  C =    0.1 → Accuracy: 0.9170\n",
      "  C =    1.0 → Accuracy: 0.9137\n",
      "  C =   10.0 → Accuracy: 0.9104\n",
      "  C =  100.0 → Accuracy: 0.9073\n"
>>>>>>> b8f36e0d97de398581aa96a40b905749b46d7379
     ]
    }
   ],
   "source": [
    "from sklearn.model_selection import GridSearchCV\n",
    "\n",
<<<<<<< HEAD
    "param_grid = {\n",
    "    'C': [0.01, 0.1, 1, 10, 100],\n",
    "    'penalty': ['l2'],\n",
    "    'solver': ['lbfgs']\n",
    "}\n",
    "\n",
    "grid_search = GridSearchCV(\n",
    "    LogisticRegression(random_state=42, max_iter=1000),\n",
    "    param_grid,\n",
    "    cv=5,\n",
    "    scoring='accuracy',\n",
=======
    "print(\"=\"*80)\n",
    "print(\"HYPERPARAMETER TUNING - Finder de bedste indstillinger\")\n",
    "print(\"=\"*80)\n",
    "\n",
    "# Test forskellige hyperparametre\n",
    "param_grid = {\n",
    "    'C': [0.01, 0.1, 1, 10, 100],      \n",
    "    'penalty': ['l2'],                  \n",
    "    'solver': ['lbfgs']                \n",
    "}\n",
    "\n",
    "print(f\"\\nTester {len(param_grid['C'])} forskellige C-værdier: {param_grid['C']}\")\n",
    "print(\"Med 5-fold cross-validation betyder det 5 × 5 = 25 modeller trænes\")\n",
    "\n",
    "grid_search = GridSearchCV(\n",
    "    LogisticRegression(random_state=42, max_iter=1000),\n",
    "    param_grid,\n",
    "    cv=5,              \n",
    "    scoring='accuracy',\n",
    "    verbose=1          \n",
>>>>>>> b8f36e0d97de398581aa96a40b905749b46d7379
    ")\n",
    "\n",
    "grid_search.fit(X_train_scaled, y_train)\n",
    "log_reg = grid_search.best_estimator_\n",
    "\n",
<<<<<<< HEAD
    "print(f\"\\nBedste C: {grid_search.best_params_['C']}\")\n",
    "print(f\"CV accuracy: {grid_search.best_score_:.4f}\")"
=======
    "print(\"\\n\" + \"=\"*80)\n",
    "print(\"RESULTATER\")\n",
    "print(\"=\"*80)\n",
    "print(f\"Bedste C-værdi: {grid_search.best_params_['C']}\")\n",
    "print(f\"Bedste CV score: {grid_search.best_score_:.4f} ({grid_search.best_score_*100:.2f}%)\")\n",
    "\n",
    "# Vis alle resultater\n",
    "print(\"\\nAlle testede C-værdier og deres score:\")\n",
    "results = pd.DataFrame(grid_search.cv_results_)\n",
    "for c_val, mean_score in zip(results['param_C'], results['mean_test_score']):\n",
    "    print(f\"  C = {c_val:6} → Accuracy: {mean_score:.4f}\")"
>>>>>>> b8f36e0d97de398581aa96a40b905749b46d7379
   ]
  },
  {
   "cell_type": "markdown",
   "id": "c87a7f9b-ff6a-4e98-a272-c0e536ee57e4",
   "metadata": {},
   "source": [
    "# 7. Make Predictions\n"
   ]
  },
  {
   "cell_type": "code",
<<<<<<< HEAD
   "execution_count": 146,
=======
   "execution_count": 8,
>>>>>>> b8f36e0d97de398581aa96a40b905749b46d7379
   "id": "8dd1fe21-bb3e-44d9-8f4d-d06e83e67928",
   "metadata": {},
   "outputs": [
    {
     "name": "stdout",
     "output_type": "stream",
     "text": [
<<<<<<< HEAD
      "\n",
      "Predictions: 45/79 efficient (57.0%)\n",
      "Confidence: avg=0.514, min=0.028, max=0.889\n",
      "\n",
      "  Actual  Predicted     Prob   \n",
      "      1          1 0.729777 OK\n",
      "      0          1 0.674426  X\n",
      "      1          1 0.871926 OK\n",
      "      1          1 0.694406 OK\n",
      "      1          1 0.710912 OK\n"
=======
      "================================================================================\n",
      "FORUDSIGELSER PÅ TESTDATA\n",
      "================================================================================\n",
      "\n",
      "Antal test samples: 79\n",
      "\n",
      "Predictions (0=Not Efficient, 1=Fuel Efficient):\n",
      "  Predicted as Fuel Efficient: 45 biler (57.0%)\n",
      "  Predicted as NOT Efficient:  34 biler (43.0%)\n",
      "\n",
      "Sandsynligheder (0.0-1.0):\n",
      "  Gennemsnitlig confidence: 0.514\n",
      "  Laveste confidence: 0.028\n",
      "  Højeste confidence: 0.889\n",
      "\n",
      "================================================================================\n",
      "EKSEMPEL PREDICTIONS (første 5 testbiler):\n",
      "================================================================================\n",
      " Actual  Predicted  Probability Correct\n",
      "      1          1     0.729777       ✓\n",
      "      0          1     0.674426       ✗\n",
      "      1          1     0.871926       ✓\n",
      "      1          1     0.694406       ✓\n",
      "      1          1     0.710912       ✓\n",
      "\n",
      "Forklaring:\n",
      "- Actual: Den rigtige klasse (0 eller 1)\n",
      "- Predicted: Hvad modellen gættede (0 eller 1)\n",
      "- Probability: Modellens confidence for klasse 1 (0.0-1.0)\n",
      "  * >0.5 → predicts 1 (Fuel Efficient)\n",
      "  * <0.5 → predicts 0 (Not Efficient)\n"
>>>>>>> b8f36e0d97de398581aa96a40b905749b46d7379
     ]
    }
   ],
   "source": [
<<<<<<< HEAD
    "y_pred = log_reg.predict(X_test_scaled)\n",
    "y_pred_proba = log_reg.predict_proba(X_test_scaled)[:, 1]\n",
    "\n",
    "print(f\"\\nPredictions: {sum(y_pred)}/{len(y_pred)} efficient ({sum(y_pred)/len(y_pred)*100:.1f}%)\")\n",
    "print(f\"Confidence: avg={y_pred_proba.mean():.3f}, min={y_pred_proba.min():.3f}, max={y_pred_proba.max():.3f}\")\n",
    "\n",
    "examples = pd.DataFrame({\n",
    "    'Actual': y_test.head(5).values,\n",
    "    'Predicted': y_pred[:5],\n",
    "    'Prob': y_pred_proba[:5],\n",
    "    '': ['OK' if a == p else 'X' for a, p in zip(y_test.head(5).values, y_pred[:5])]\n",
    "})\n",
    "print(\"\\n\", examples.to_string(index=False))"
=======
    "print(\"=\"*80)\n",
    "print(\"FORUDSIGELSER PÅ TESTDATA\")\n",
    "print(\"=\"*80)\n",
    "\n",
    "# Lav predictions\n",
    "y_pred = log_reg.predict(X_test_scaled)\n",
    "y_pred_proba = log_reg.predict_proba(X_test_scaled)[:, 1]\n",
    "\n",
    "print(f\"\\nAntal test samples: {len(y_pred)}\")\n",
    "print(f\"\\nPredictions (0=Not Efficient, 1=Fuel Efficient):\")\n",
    "print(f\"  Predicted as Fuel Efficient: {sum(y_pred)} biler ({sum(y_pred)/len(y_pred)*100:.1f}%)\")\n",
    "print(f\"  Predicted as NOT Efficient:  {len(y_pred)-sum(y_pred)} biler ({(len(y_pred)-sum(y_pred))/len(y_pred)*100:.1f}%)\")\n",
    "\n",
    "print(f\"\\nSandsynligheder (0.0-1.0):\")\n",
    "print(f\"  Gennemsnitlig confidence: {y_pred_proba.mean():.3f}\")\n",
    "print(f\"  Laveste confidence: {y_pred_proba.min():.3f}\")\n",
    "print(f\"  Højeste confidence: {y_pred_proba.max():.3f}\")\n",
    "\n",
    "# Vis nogle eksempler\n",
    "print(\"\\n\" + \"=\"*80)\n",
    "print(\"EKSEMPEL PREDICTIONS (første 5 testbiler):\")\n",
    "print(\"=\"*80)\n",
    "examples = pd.DataFrame({\n",
    "    'Actual': y_test.head(5).values,\n",
    "    'Predicted': y_pred[:5],\n",
    "    'Probability': y_pred_proba[:5],\n",
    "    'Correct': ['✓' if a == p else '✗' for a, p in zip(y_test.head(5).values, y_pred[:5])]\n",
    "})\n",
    "print(examples.to_string(index=False))\n",
    "\n",
    "print(\"\\nForklaring:\")\n",
    "print(\"- Actual: Den rigtige klasse (0 eller 1)\")\n",
    "print(\"- Predicted: Hvad modellen gættede (0 eller 1)\")\n",
    "print(\"- Probability: Modellens confidence for klasse 1 (0.0-1.0)\")\n",
    "print(\"  * >0.5 → predicts 1 (Fuel Efficient)\")\n",
    "print(\"  * <0.5 → predicts 0 (Not Efficient)\")"
>>>>>>> b8f36e0d97de398581aa96a40b905749b46d7379
   ]
  },
  {
   "cell_type": "markdown",
   "id": "4873f873-5f94-4051-87df-322c74773517",
   "metadata": {},
   "source": [
    "# 8. Evaluate Model\n"
   ]
  },
  {
   "cell_type": "code",
<<<<<<< HEAD
   "execution_count": 161,
=======
   "execution_count": 9,
>>>>>>> b8f36e0d97de398581aa96a40b905749b46d7379
   "id": "019a1950-3057-47f8-8a92-147fd1a3c614",
   "metadata": {},
   "outputs": [
    {
     "name": "stdout",
     "output_type": "stream",
     "text": [
      "\n",
<<<<<<< HEAD
      "Confusion Matrix: TP=36, TN=33, FP=9, FN=1\n",
      "\n",
      "Accuracy:  0.873 (69/79 korrekte)\n",
      "Precision: 0.800 (af 45 'efficient', 36 var korrekte)\n",
      "Recall:    0.973 (fandt 36 af 37 efficient biler)\n",
      "F1-score:  0.878\n"
=======
      "================================================================================\n",
      "MODEL EVALUATION\n",
      "================================================================================\n",
      "\n",
      "I vores 79 testbiler har vi:\n",
      "  True Positives (TP):   36 - Korrekt fundet som Fuel Efficient\n",
      "  True Negatives (TN):   33 - Korrekt fundet som NOT Efficient\n",
      "  False Positives (FP):  9 - Forkert kaldt Efficient (var faktisk NOT)\n",
      "  False Negatives (FN):  1 - Forkert kaldt NOT Efficient (var faktisk Efficient)\n",
      "\n",
      "--------------------------------------------------------------------------------\n",
      "METRICS:\n",
      "--------------------------------------------------------------------------------\n",
      "\n",
      "1. ACCURACY = 0.873 (87.3%)\n",
      "   (36 + 33) / 79 = 87.3% af alle predictions var korrekte\n",
      "\n",
      "2. PRECISION = 0.800 (80.0%)\n",
      "   36 / (36 + 9) = Når vi siger 'Efficient', har vi ret 80.0% af tiden\n",
      "\n",
      "3. RECALL = 0.973 (97.3%)\n",
      "   36 / (36 + 1) = Vi fandt 97.3% af alle Efficient biler\n",
      "\n",
      "4. F1-SCORE = 0.878\n",
      "   Balance mellem precision og recall\n"
>>>>>>> b8f36e0d97de398581aa96a40b905749b46d7379
     ]
    }
   ],
   "source": [
<<<<<<< HEAD
    "from sklearn.metrics import confusion_matrix, accuracy_score, precision_score, recall_score, f1_score\n",
    "\n",
    "y_pred = log_reg.predict(X_test_scaled)\n",
=======
    "from sklearn.metrics import confusion_matrix\n",
>>>>>>> b8f36e0d97de398581aa96a40b905749b46d7379
    "\n",
    "accuracy = accuracy_score(y_test, y_pred)\n",
    "precision = precision_score(y_test, y_pred)\n",
    "recall = recall_score(y_test, y_pred)\n",
    "f1 = f1_score(y_test, y_pred)\n",
    "\n",
<<<<<<< HEAD
    "cm = confusion_matrix(y_test, y_pred)\n",
    "tn, fp, fn, tp = cm.ravel()\n",
    "\n",
    "print(f\"\\nConfusion Matrix: TP={tp}, TN={tn}, FP={fp}, FN={fn}\")\n",
    "print(f\"\\nAccuracy:  {accuracy:.3f} ({tp+tn}/{len(y_test)} korrekte)\")\n",
    "print(f\"Precision: {precision:.3f} (af {tp+fp} 'efficient', {tp} var korrekte)\")\n",
    "print(f\"Recall:    {recall:.3f} (fandt {tp} af {tp+fn} efficient biler)\")\n",
    "print(f\"F1-score:  {f1:.3f}\")"
=======
    "print(\"\\n\" + \"=\"*80)\n",
    "print(\"MODEL EVALUATION\")\n",
    "print(\"=\"*80)\n",
    "\n",
    "cm = confusion_matrix(y_test, y_pred)\n",
    "tn, fp, fn, tp = cm.ravel()\n",
    "\n",
    "print(f\"\\nI vores {len(y_test)} testbiler har vi:\")\n",
    "print(f\"  True Positives (TP):   {tp} - Korrekt fundet som Fuel Efficient\")\n",
    "print(f\"  True Negatives (TN):   {tn} - Korrekt fundet som NOT Efficient\")\n",
    "print(f\"  False Positives (FP):  {fp} - Forkert kaldt Efficient (var faktisk NOT)\")\n",
    "print(f\"  False Negatives (FN):  {fn} - Forkert kaldt NOT Efficient (var faktisk Efficient)\")\n",
    "\n",
    "print(\"\\n\" + \"-\"*80)\n",
    "print(\"METRICS:\")\n",
    "print(\"-\"*80)\n",
    "\n",
    "print(f\"\\n1. ACCURACY = {accuracy:.3f} ({accuracy*100:.1f}%)\")\n",
    "print(f\"   ({tp} + {tn}) / {len(y_test)} = {accuracy*100:.1f}% af alle predictions var korrekte\")\n",
    "\n",
    "print(f\"\\n2. PRECISION = {precision:.3f} ({precision*100:.1f}%)\")\n",
    "print(f\"   {tp} / ({tp} + {fp}) = Når vi siger 'Efficient', har vi ret {precision*100:.1f}% af tiden\")\n",
    "\n",
    "print(f\"\\n3. RECALL = {recall:.3f} ({recall*100:.1f}%)\")\n",
    "print(f\"   {tp} / ({tp} + {fn}) = Vi fandt {recall*100:.1f}% af alle Efficient biler\")\n",
    "\n",
    "print(f\"\\n4. F1-SCORE = {f1:.3f}\")\n",
    "print(f\"   Balance mellem precision og recall\")\n"
>>>>>>> b8f36e0d97de398581aa96a40b905749b46d7379
   ]
  },
  {
   "cell_type": "markdown",
   "id": "6e909a84-c56e-40e0-983e-9a5b00b21803",
   "metadata": {},
   "source": [
    "# 8.1 Confusion Matrix Visualisering"
   ]
  },
  {
   "cell_type": "code",
<<<<<<< HEAD
   "execution_count": 96,
=======
   "execution_count": 10,
>>>>>>> b8f36e0d97de398581aa96a40b905749b46d7379
   "id": "995afa04-fd98-4b5e-9a4a-db3d5fb19202",
   "metadata": {},
   "outputs": [
    {
     "data": {
      "image/png": "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",
      "text/plain": [
       "<Figure size 800x700 with 2 Axes>"
      ]
     },
     "metadata": {},
     "output_type": "display_data"
    },
    {
     "name": "stdout",
     "output_type": "stream",
     "text": [
      "\n",
      "Confusion Matrix viser:\n",
      "69 korrekte predictions ud af 79 (87.3%)\n",
      "10 fejl (12.7%)\n"
     ]
    }
   ],
   "source": [
    "import seaborn as sns\n",
    "\n",
    "# Visualiser confusion matrix\n",
    "plt.figure(figsize=(8, 7))\n",
    "\n",
    "sns.heatmap(cm, annot=True, fmt='d', cmap='Blues', \n",
    "            xticklabels=['Not Efficient', 'Fuel Efficient'],\n",
    "            yticklabels=['Not Efficient', 'Fuel Efficient'],\n",
    "            cbar_kws={'label': 'Antal biler'})\n",
    "\n",
    "plt.title('Confusion Matrix - Logistic Regression\\n', fontsize=14, fontweight='bold')\n",
    "plt.ylabel('Faktisk Klasse', fontsize=12, fontweight='bold')\n",
    "plt.xlabel('Forudsagt Klasse', fontsize=12, fontweight='bold')\n",
    "\n",
    "plt.tight_layout()  # Flyttet tight_layout() FØR plt.text()\n",
    "plt.show()\n",
    "\n",
    "print(\"\\nConfusion Matrix viser:\")\n",
    "print(f\"{tn + tp} korrekte predictions ud af {len(y_test)} ({accuracy*100:.1f}%)\")\n",
    "print(f\"{fp + fn} fejl ({(fp+fn)/len(y_test)*100:.1f}%)\")"
   ]
  },
  {
   "cell_type": "markdown",
   "id": "acab18bd-6a56-4ccc-9a7a-cdc2e05891fd",
   "metadata": {},
   "source": [
    "# 8.2 ROC Curve og AUC Score\n"
   ]
  },
  {
   "cell_type": "code",
<<<<<<< HEAD
   "execution_count": 152,
=======
   "execution_count": 11,
>>>>>>> b8f36e0d97de398581aa96a40b905749b46d7379
   "id": "cb9e41b9-adb0-4f00-8c74-dc155ddf13e5",
   "metadata": {},
   "outputs": [
    {
<<<<<<< HEAD
     "data": {
      "image/png": "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",
      "text/plain": [
       "<Figure size 700x500 with 1 Axes>"
=======
     "name": "stdout",
     "output_type": "stream",
     "text": [
      "\n",
      "================================================================================\n",
      "ROC CURVE ANALYSE\n",
      "================================================================================\n",
      "ROC (Receiver Operating Characteristic) viser: Hvor god er modellen til at skelne mellem klasserne?\n",
      "Vi tester mange forskellige 'thresholds' (ikke bare median=22.8)\n"
     ]
    },
    {
     "data": {
      "image/png": "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",
      "text/plain": [
       "<Figure size 800x600 with 1 Axes>"
>>>>>>> b8f36e0d97de398581aa96a40b905749b46d7379
      ]
     },
     "metadata": {},
     "output_type": "display_data"
    },
    {
     "name": "stdout",
     "output_type": "stream",
     "text": [
<<<<<<< HEAD
      "AUC Score: 0.955\n"
=======
      "\n",
      "AUC (Area Under Curve) Score: 0.9550\n",
      "\n",
      "Fortolkning af AUC:\n",
      "  1.0 = Perfekt model\n",
      "  0.9 = Excellent\n",
      "  0.8 = God\n",
      "  0.5 = Lige så god som at gætte\n",
      "\n",
      "Vores model med AUC=0.955 er Excellent\n",
      "  Modellen kan skelne meget godt mellem efficient og NOT efficient biler\n"
>>>>>>> b8f36e0d97de398581aa96a40b905749b46d7379
     ]
    }
   ],
   "source": [
    "from sklearn.metrics import roc_curve, auc\n",
    "\n",
<<<<<<< HEAD
    "# ROC Curve\n",
    "fpr, tpr, thresholds = roc_curve(y_test, y_pred_proba)\n",
    "roc_auc = auc(fpr, tpr)\n",
    "\n",
    "plt.figure(figsize=(7, 5))\n",
    "plt.plot(fpr, tpr, color='#2E86AB', lw=2.5, label=f'Model (AUC = {roc_auc:.3f})')\n",
    "plt.plot([0, 1], [0, 1], color='gray', lw=1.5, linestyle='--', label='Random (AUC = 0.5)')\n",
    "plt.fill_between(fpr, tpr, alpha=0.2, color='#2E86AB')\n",
    "plt.xlabel('False Positive Rate', fontsize=11)\n",
    "plt.ylabel('True Positive Rate', fontsize=11)\n",
    "plt.title('ROC Curve', fontsize=13, fontweight='bold')\n",
    "plt.legend(loc='lower right')\n",
    "plt.grid(alpha=0.3, linestyle=':')\n",
    "plt.tight_layout()\n",
    "plt.show()\n",
    "\n",
    "print(f\"AUC Score: {roc_auc:.3f}\")"
=======
    "print(\"\\n\" + \"=\"*80)\n",
    "print(\"ROC CURVE ANALYSE\")\n",
    "print(\"=\"*80)\n",
    "print(\"ROC (Receiver Operating Characteristic) viser: Hvor god er modellen til at skelne mellem klasserne?\")\n",
    "print(f\"Vi tester mange forskellige 'thresholds' (ikke bare median={median_mpg:.1f})\")\n",
    "\n",
    "# Beregn ROC curve\n",
    "fpr, tpr, thresholds = roc_curve(y_test, y_pred_proba)\n",
    "roc_auc = auc(fpr, tpr)\n",
    "\n",
    "# Visualiser\n",
    "plt.figure(figsize=(8, 6))\n",
    "plt.plot(fpr, tpr, color='darkorange', lw=2, label=f'Vores Model (AUC = {roc_auc:.3f})')\n",
    "plt.plot([0, 1], [0, 1], color='navy', lw=2, linestyle='--', label='Random Gæt (AUC = 0.5)')\n",
    "plt.xlabel('False Positive Rate (hvor mange fejl laver vi?)')\n",
    "plt.ylabel('True Positive Rate (hvor mange finder vi?)')\n",
    "plt.title('ROC Curve - Logistic Regression')\n",
    "plt.legend()\n",
    "plt.grid(alpha=0.3)\n",
    "plt.tight_layout()\n",
    "plt.show()\n",
    "\n",
    "print(f\"\\nAUC (Area Under Curve) Score: {roc_auc:.4f}\")\n",
    "print(\"\\nFortolkning af AUC:\")\n",
    "print(\"  1.0 = Perfekt model\")\n",
    "print(\"  0.9 = Excellent\")\n",
    "print(\"  0.8 = God\")\n",
    "print(\"  0.5 = Lige så god som at gætte\")\n",
    "\n",
    "if roc_auc >= 0.9:\n",
    "    print(f\"\\nVores model med AUC={roc_auc:.3f} er Excellent\")\n",
    "    print(\"  Modellen kan skelne meget godt mellem efficient og NOT efficient biler\")\n",
    "elif roc_auc >= 0.8:\n",
    "    print(f\"\\nVores model med AUC={roc_auc:.3f} er GOD\")"
>>>>>>> b8f36e0d97de398581aa96a40b905749b46d7379
   ]
  },
  {
   "cell_type": "markdown",
   "id": "99051f88-6e97-4554-92c3-b93e62203f9e",
   "metadata": {},
   "source": [
    "# 9. Model Validation - Sammenligning med Træningsdata\n"
   ]
  },
  {
   "cell_type": "code",
<<<<<<< HEAD
   "execution_count": 159,
=======
   "execution_count": 12,
>>>>>>> b8f36e0d97de398581aa96a40b905749b46d7379
   "id": "63175ea2-be92-47ef-b43d-ebeb899057c5",
   "metadata": {},
   "outputs": [
    {
     "name": "stdout",
     "output_type": "stream",
     "text": [
      "\n",
<<<<<<< HEAD
      "Træning Accuracy: 0.917 (91.7%)\n",
      "Test Accuracy:    0.873 (87.3%)\n",
      "Forskel:          0.044 (4.4%)\n",
      "God generalisering - modellen overfitter ikke\n"
=======
      "================================================================================\n",
      "MODEL VALIDATION\n",
      "================================================================================\n",
      "Træning Accuracy: 0.917 (91.7%)\n",
      "Test Accuracy:    0.873 (87.3%)\n",
      "Forskel:          0.044 (4.4%)\n",
      "God generalisering - modellen overfitter ikke\n",
      "\n",
      "GridSearchCV brugte 5-fold CV → Best score: 0.917\n"
>>>>>>> b8f36e0d97de398581aa96a40b905749b46d7379
     ]
    }
   ],
   "source": [
<<<<<<< HEAD
    "y_train_pred = log_reg.predict(X_train_scaled)\n",
    "train_accuracy = accuracy_score(y_train, y_train_pred)\n",
    "\n",
    "print(f\"\\nTræning Accuracy: {train_accuracy:.3f} ({train_accuracy*100:.1f}%)\")\n",
=======
    "print(\"\\n\" + \"=\"*80)\n",
    "print(\"MODEL VALIDATION\")\n",
    "print(\"=\"*80)\n",
    "\n",
    "# Tjek overfitting\n",
    "y_train_pred = log_reg.predict(X_train_scaled)\n",
    "train_accuracy = accuracy_score(y_train, y_train_pred)\n",
    "\n",
    "print(f\"Træning Accuracy: {train_accuracy:.3f} ({train_accuracy*100:.1f}%)\")\n",
>>>>>>> b8f36e0d97de398581aa96a40b905749b46d7379
    "print(f\"Test Accuracy:    {accuracy:.3f} ({accuracy*100:.1f}%)\")\n",
    "print(f\"Forskel:          {abs(train_accuracy - accuracy):.3f} ({abs(train_accuracy - accuracy)*100:.1f}%)\")\n",
    "\n",
    "if abs(train_accuracy - accuracy) < 0.05:\n",
<<<<<<< HEAD
    "    print(\"God generalisering - modellen overfitter ikke\")"
=======
    "    print(\"God generalisering - modellen overfitter ikke\")\n",
    "\n",
    "print(f\"\\nGridSearchCV brugte 5-fold CV → Best score: {grid_search.best_score_:.3f}\")"
>>>>>>> b8f36e0d97de398581aa96a40b905749b46d7379
   ]
  },
  {
   "cell_type": "markdown",
   "id": "c74ba210-fa19-4cd3-936e-19553b45087f",
   "metadata": {},
   "source": [
    "# 10. Feature Importance (Coefficients)\n"
   ]
  },
  {
   "cell_type": "code",
<<<<<<< HEAD
   "execution_count": 153,
=======
   "execution_count": 13,
>>>>>>> b8f36e0d97de398581aa96a40b905749b46d7379
   "id": "47d0dfa0-751d-461a-b9e0-866753f3966d",
   "metadata": {},
   "outputs": [
    {
     "name": "stdout",
     "output_type": "stream",
     "text": [
<<<<<<< HEAD
=======
      "\n",
      "================================================================================\n",
      "FEATURE IMPORTANCE (Koefficienter)\n",
      "================================================================================\n",
>>>>>>> b8f36e0d97de398581aa96a40b905749b46d7379
      "     Feature  Coefficient\n",
      "  model year     0.272619\n",
      "      origin     0.219132\n",
      "acceleration     0.074588\n",
      "  horsepower    -0.266026\n",
      "displacement    -0.320244\n",
      "   cylinders    -0.332859\n",
      "      weight    -0.357700\n",
      "\n",
      "Positive koefficienter øger sandsynligheden for fuel-efficient\n",
      "Negative koefficienter mindsker sandsynligheden for fuel-efficient\n"
     ]
    }
   ],
   "source": [
    "feature_importance = pd.DataFrame({\n",
    "    'Feature': features,\n",
    "    'Coefficient': log_reg.coef_[0]\n",
    "}).sort_values('Coefficient', ascending=False)\n",
    "\n",
<<<<<<< HEAD
=======
    "print(\"\\n\" + \"=\"*80)\n",
    "print(\"FEATURE IMPORTANCE (Koefficienter)\")\n",
    "print(\"=\"*80)\n",
>>>>>>> b8f36e0d97de398581aa96a40b905749b46d7379
    "print(feature_importance.to_string(index=False))\n",
    "print(\"\\nPositive koefficienter øger sandsynligheden for fuel-efficient\")\n",
    "print(\"Negative koefficienter mindsker sandsynligheden for fuel-efficient\")"
   ]
  },
  {
   "cell_type": "code",
   "execution_count": null,
<<<<<<< HEAD
   "id": "2bed416e-5397-4605-ba81-a9cd807f1cc8",
=======
   "id": "90801169-810f-485a-9f26-e4ff206e06fb",
   "metadata": {},
   "outputs": [],
   "source": []
  },
  {
   "cell_type": "code",
   "execution_count": null,
   "id": "8b8899c1-3064-4a4a-8246-10588eb185a4",
>>>>>>> b8f36e0d97de398581aa96a40b905749b46d7379
   "metadata": {},
   "outputs": [],
   "source": []
  }
 ],
 "metadata": {
  "kernelspec": {
   "display_name": "Python 3 (ipykernel)",
   "language": "python",
   "name": "python3"
  },
  "language_info": {
   "codemirror_mode": {
    "name": "ipython",
    "version": 3
   },
   "file_extension": ".py",
   "mimetype": "text/x-python",
   "name": "python",
   "nbconvert_exporter": "python",
   "pygments_lexer": "ipython3",
<<<<<<< HEAD
   "version": "3.13.7"
=======
   "version": "3.12.1"
>>>>>>> b8f36e0d97de398581aa96a40b905749b46d7379
  }
 },
 "nbformat": 4,
 "nbformat_minor": 5
}
