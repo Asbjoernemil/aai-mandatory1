{
 "cells": [
  {
   "cell_type": "markdown",
   "id": "bb75d68d",
   "metadata": {},
   "source": [
    "# MANDATORY ASSIGNMENT 1: LOGISTIC REGRESSION PROBLEM\n",
    "## Problem: Givet bilens specifikationer, klassificer om den er fuel-efficient"
   ]
  },
  {
   "cell_type": "code",
   "execution_count": 35,
   "id": "901ff5ce",
   "metadata": {
    "vscode": {
     "languageId": "plaintext"
    }
   },
   "outputs": [],
   "source": [
    "import pandas as pd\n",
    "import numpy as np\n",
    "import matplotlib.pyplot as plt\n",
    "from sklearn.linear_model import LogisticRegression\n",
    "from sklearn.model_selection import train_test_split\n",
    "from sklearn.metrics import accuracy_score, precision_score, recall_score, f1_score, confusion_matrix, classification_report"
   ]
  },
  {
   "cell_type": "markdown",
   "id": "978700dd-7f12-4de2-85d0-f06f804f6ef6",
   "metadata": {},
   "source": [
    "# 2. Load Data"
   ]
  },
  {
   "cell_type": "code",
   "execution_count": 102,
   "id": "e0a69405-038a-4242-a79f-745f17d3b3db",
   "metadata": {},
   "outputs": [],
   "source": [
    "df = pd.read_csv(\"data/cars.csv\")"
   ]
  },
  {
   "cell_type": "markdown",
   "id": "0b4d3352-fdf6-411c-b814-3a03ca6418d1",
   "metadata": {},
   "source": [
    "# 3. Data Cleaning (samme som regression)\n"
   ]
  },
  {
   "cell_type": "code",
   "execution_count": 103,
   "id": "5c685728-72f0-494c-ba7e-4d8fe38e0db2",
   "metadata": {},
   "outputs": [],
   "source": [
    "df['horsepower'] = df['horsepower'].replace('?', np.nan)\n",
    "df['horsepower'] = pd.to_numeric(df['horsepower'])\n",
    "\n",
    "target = \"mpg\"\n",
    "features = [\"cylinders\", \"displacement\", \"horsepower\", \"weight\",\n",
    "            \"acceleration\", \"model year\", \"origin\"]\n",
    "\n",
    "df_clean = df[features + [target]].dropna().copy()"
   ]
  },
  {
   "cell_type": "markdown",
   "id": "d57e9d11-785a-47fc-a4a3-66905efdf070",
   "metadata": {},
   "source": [
    "# 4. Create Binary Target Variable\n"
   ]
  },
  {
   "cell_type": "code",
   "execution_count": 38,
   "id": "9dc90877-d8b2-4370-9d58-76330462035c",
   "metadata": {},
   "outputs": [
    {
     "name": "stdout",
     "output_type": "stream",
     "text": [
      "\n",
      "Median MPG: 22.8\n",
      "\n",
      "Antal fuel-efficient biler (mpg > 22.8): 196\n",
      "Antal ikke fuel-efficient biler: 196\n"
     ]
    }
   ],
   "source": [
    "# Vi bruger medianen til at definere om bilerne er \"fuel-efficient\"\n",
    "median_mpg = df_clean[target].median()\n",
    "print(f\"\\nMedian MPG: {median_mpg:.1f}\")\n",
    "\n",
    "# Opret binær målvariabel: 1 hvis mpg > median, 0 ellers\n",
    "df_clean['is_efficient'] = (df_clean[target] > median_mpg).astype(int)\n",
    "\n",
    "print(f\"\\nAntal fuel-efficient biler (mpg > {median_mpg:.1f}): {df_clean['is_efficient'].sum()}\")\n",
    "print(f\"Antal ikke fuel-efficient biler: {len(df_clean) - df_clean['is_efficient'].sum()}\")"
   ]
  },
  {
   "cell_type": "markdown",
   "id": "22e7362d-b531-4cd9-bb75-e82385eb917f",
   "metadata": {},
   "source": [
    "# 5. Prepare Features and Target\n"
   ]
  },
  {
   "cell_type": "code",
   "execution_count": 39,
   "id": "cca33d0b-0eae-40f1-86c6-f6f6b4d3cce0",
   "metadata": {},
   "outputs": [
    {
     "name": "stdout",
     "output_type": "stream",
     "text": [
      "\n",
      "Training set: 313 samples\n",
      "Test set: 79 samples\n"
     ]
    }
   ],
   "source": [
    "X = df_clean[features]\n",
    "y = df_clean['is_efficient']\n",
    "\n",
    "X_train, X_test, y_train, y_test = train_test_split(\n",
    "    X, y, test_size=0.20, random_state=42\n",
    ")\n",
    "\n",
    "print(f\"\\nTraining set: {X_train.shape[0]} samples\")\n",
    "print(f\"Test set: {X_test.shape[0]} samples\")"
   ]
  },
  {
   "cell_type": "markdown",
   "id": "3541792b-43a3-4385-80d7-ca8798f18ce7",
   "metadata": {},
   "source": [
    "# 5.1 Feature Scaling"
   ]
  },
  {
   "cell_type": "code",
   "execution_count": 157,
   "id": "1986e5f6-7940-42ee-8fbc-4432e630b497",
   "metadata": {},
   "outputs": [
    {
     "name": "stdout",
     "output_type": "stream",
     "text": [
      "\n",
      "Feature scaling: FØR -> EFTER\n",
      "Weight: 3620 -> 0.75\n"
     ]
    }
   ],
   "source": [
    "from sklearn.preprocessing import StandardScaler\n",
    "\n",
    "scaler = StandardScaler()\n",
    "X_train_scaled = scaler.fit_transform(X_train)\n",
    "X_test_scaled = scaler.transform(X_test)\n",
    "\n",
    "print(f\"\\nFeature scaling: FØR -> EFTER\")\n",
    "print(f\"Weight: {X_train.iloc[0]['weight']:.0f} -> {X_train_scaled[0][3]:.2f}\")"
   ]
  },
  {
   "cell_type": "markdown",
   "id": "333b2760-7677-4f5c-a7c7-e7146955dc20",
   "metadata": {},
   "source": [
    "# 6. Train Logistic Regression Model\n"
   ]
  },
  {
   "cell_type": "code",
   "execution_count": 158,
   "id": "c4dce525-8c6c-4fa8-887f-c0fe5fb90caf",
   "metadata": {},
   "outputs": [
    {
     "name": "stdout",
     "output_type": "stream",
     "text": [
      "\n",
      "Bedste C: 0.01\n",
      "CV accuracy: 0.9171\n"
     ]
    }
   ],
   "source": [
    "from sklearn.model_selection import GridSearchCV\n",
    "\n",
    "param_grid = {\n",
    "    'C': [0.01, 0.1, 1, 10, 100],\n",
    "    'penalty': ['l2'],\n",
    "    'solver': ['lbfgs']\n",
    "}\n",
    "\n",
    "grid_search = GridSearchCV(\n",
    "    LogisticRegression(random_state=42, max_iter=1000),\n",
    "    param_grid,\n",
    "    cv=5,\n",
    "    scoring='accuracy',\n",
    ")\n",
    "\n",
    "grid_search.fit(X_train_scaled, y_train)\n",
    "log_reg = grid_search.best_estimator_\n",
    "\n",
    "print(f\"\\nBedste C: {grid_search.best_params_['C']}\")\n",
    "print(f\"CV accuracy: {grid_search.best_score_:.4f}\")"
   ]
  },
  {
   "cell_type": "markdown",
   "id": "c87a7f9b-ff6a-4e98-a272-c0e536ee57e4",
   "metadata": {},
   "source": [
    "# 7. Make Predictions\n"
   ]
  },
  {
   "cell_type": "code",
   "execution_count": 146,
   "id": "8dd1fe21-bb3e-44d9-8f4d-d06e83e67928",
   "metadata": {},
   "outputs": [
    {
     "name": "stdout",
     "output_type": "stream",
     "text": [
      "\n",
      "Predictions: 45/79 efficient (57.0%)\n",
      "Confidence: avg=0.514, min=0.028, max=0.889\n",
      "\n",
      "  Actual  Predicted     Prob   \n",
      "      1          1 0.729777 OK\n",
      "      0          1 0.674426  X\n",
      "      1          1 0.871926 OK\n",
      "      1          1 0.694406 OK\n",
      "      1          1 0.710912 OK\n"
     ]
    }
   ],
   "source": [
    "y_pred = log_reg.predict(X_test_scaled)\n",
    "y_pred_proba = log_reg.predict_proba(X_test_scaled)[:, 1]\n",
    "\n",
    "print(f\"\\nPredictions: {sum(y_pred)}/{len(y_pred)} efficient ({sum(y_pred)/len(y_pred)*100:.1f}%)\")\n",
    "print(f\"Confidence: avg={y_pred_proba.mean():.3f}, min={y_pred_proba.min():.3f}, max={y_pred_proba.max():.3f}\")\n",
    "\n",
    "examples = pd.DataFrame({\n",
    "    'Actual': y_test.head(5).values,\n",
    "    'Predicted': y_pred[:5],\n",
    "    'Prob': y_pred_proba[:5],\n",
    "    '': ['OK' if a == p else 'X' for a, p in zip(y_test.head(5).values, y_pred[:5])]\n",
    "})\n",
    "print(\"\\n\", examples.to_string(index=False))"
   ]
  },
  {
   "cell_type": "markdown",
   "id": "4873f873-5f94-4051-87df-322c74773517",
   "metadata": {},
   "source": [
    "# 8. Evaluate Model\n"
   ]
  },
  {
   "cell_type": "code",
   "execution_count": 161,
   "id": "019a1950-3057-47f8-8a92-147fd1a3c614",
   "metadata": {},
   "outputs": [
    {
     "name": "stdout",
     "output_type": "stream",
     "text": [
      "\n",
      "Confusion Matrix: TP=36, TN=33, FP=9, FN=1\n",
      "\n",
      "Accuracy:  0.873 (69/79 korrekte)\n",
      "Precision: 0.800 (af 45 'efficient', 36 var korrekte)\n",
      "Recall:    0.973 (fandt 36 af 37 efficient biler)\n",
      "F1-score:  0.878\n"
     ]
    }
   ],
   "source": [
    "from sklearn.metrics import confusion_matrix, accuracy_score, precision_score, recall_score, f1_score\n",
    "\n",
    "y_pred = log_reg.predict(X_test_scaled)\n",
    "\n",
    "accuracy = accuracy_score(y_test, y_pred)\n",
    "precision = precision_score(y_test, y_pred)\n",
    "recall = recall_score(y_test, y_pred)\n",
    "f1 = f1_score(y_test, y_pred)\n",
    "\n",
    "cm = confusion_matrix(y_test, y_pred)\n",
    "tn, fp, fn, tp = cm.ravel()\n",
    "\n",
    "print(f\"\\nConfusion Matrix: TP={tp}, TN={tn}, FP={fp}, FN={fn}\")\n",
    "print(f\"\\nAccuracy:  {accuracy:.3f} ({tp+tn}/{len(y_test)} korrekte)\")\n",
    "print(f\"Precision: {precision:.3f} (af {tp+fp} 'efficient', {tp} var korrekte)\")\n",
    "print(f\"Recall:    {recall:.3f} (fandt {tp} af {tp+fn} efficient biler)\")\n",
    "print(f\"F1-score:  {f1:.3f}\")"
   ]
  },
  {
   "cell_type": "markdown",
   "id": "6e909a84-c56e-40e0-983e-9a5b00b21803",
   "metadata": {},
   "source": [
    "# 8.1 Confusion Matrix Visualisering"
   ]
  },
  {
   "cell_type": "code",
   "execution_count": 96,
   "id": "995afa04-fd98-4b5e-9a4a-db3d5fb19202",
   "metadata": {},
   "outputs": [
    {
     "data": {
      "image/png": "[encoded data removed]",
      "text/plain": [
       "<Figure size 800x700 with 2 Axes>"
      ]
     },
     "metadata": {},
     "output_type": "display_data"
    },
    {
     "name": "stdout",
     "output_type": "stream",
     "text": [
      "\n",
      "Confusion Matrix viser:\n",
      "69 korrekte predictions ud af 79 (87.3%)\n",
      "10 fejl (12.7%)\n"
     ]
    }
   ],
   "source": [
    "import seaborn as sns\n",
    "\n",
    "# Visualiser confusion matrix\n",
    "plt.figure(figsize=(8, 7))\n",
    "\n",
    "sns.heatmap(cm, annot=True, fmt='d', cmap='Blues', \n",
    "            xticklabels=['Not Efficient', 'Fuel Efficient'],\n",
    "            yticklabels=['Not Efficient', 'Fuel Efficient'],\n",
    "            cbar_kws={'label': 'Antal biler'})\n",
    "\n",
    "plt.title('Confusion Matrix - Logistic Regression\\n', fontsize=14, fontweight='bold')\n",
    "plt.ylabel('Faktisk Klasse', fontsize=12, fontweight='bold')\n",
    "plt.xlabel('Forudsagt Klasse', fontsize=12, fontweight='bold')\n",
    "\n",
    "plt.tight_layout()  # Flyttet tight_layout() FØR plt.text()\n",
    "plt.show()\n",
    "\n",
    "print(\"\\nConfusion Matrix viser:\")\n",
    "print(f\"{tn + tp} korrekte predictions ud af {len(y_test)} ({accuracy*100:.1f}%)\")\n",
    "print(f\"{fp + fn} fejl ({(fp+fn)/len(y_test)*100:.1f}%)\")"
   ]
  },
  {
   "cell_type": "markdown",
   "id": "acab18bd-6a56-4ccc-9a7a-cdc2e05891fd",
   "metadata": {},
   "source": [
    "# 8.2 ROC Curve og AUC Score\n"
   ]
  },
  {
   "cell_type": "code",
   "execution_count": 152,
   "id": "cb9e41b9-adb0-4f00-8c74-dc155ddf13e5",
   "metadata": {},
   "outputs": [
    {
     "data": {
      "image/png": "[encoded data removed]",
      "text/plain": [
       "<Figure size 700x500 with 1 Axes>"
      ]
     },
     "metadata": {},
     "output_type": "display_data"
    },
    {
     "name": "stdout",
     "output_type": "stream",
     "text": [
      "AUC Score: 0.955\n"
     ]
    }
   ],
   "source": [
    "from sklearn.metrics import roc_curve, auc\n",
    "\n",
    "# ROC Curve\n",
    "fpr, tpr, thresholds = roc_curve(y_test, y_pred_proba)\n",
    "roc_auc = auc(fpr, tpr)\n",
    "\n",
    "plt.figure(figsize=(7, 5))\n",
    "plt.plot(fpr, tpr, color='#2E86AB', lw=2.5, label=f'Model (AUC = {roc_auc:.3f})')\n",
    "plt.plot([0, 1], [0, 1], color='gray', lw=1.5, linestyle='--', label='Random (AUC = 0.5)')\n",
    "plt.fill_between(fpr, tpr, alpha=0.2, color='#2E86AB')\n",
    "plt.xlabel('False Positive Rate', fontsize=11)\n",
    "plt.ylabel('True Positive Rate', fontsize=11)\n",
    "plt.title('ROC Curve', fontsize=13, fontweight='bold')\n",
    "plt.legend(loc='lower right')\n",
    "plt.grid(alpha=0.3, linestyle=':')\n",
    "plt.tight_layout()\n",
    "plt.show()\n",
    "\n",
    "print(f\"AUC Score: {roc_auc:.3f}\")"
   ]
  },
  {
   "cell_type": "markdown",
   "id": "99051f88-6e97-4554-92c3-b93e62203f9e",
   "metadata": {},
   "source": [
    "# 9. Model Validation - Sammenligning med Træningsdata\n"
   ]
  },
  {
   "cell_type": "code",
   "execution_count": 159,
   "id": "63175ea2-be92-47ef-b43d-ebeb899057c5",
   "metadata": {},
   "outputs": [
    {
     "name": "stdout",
     "output_type": "stream",
     "text": [
      "\n",
      "Træning Accuracy: 0.917 (91.7%)\n",
      "Test Accuracy:    0.873 (87.3%)\n",
      "Forskel:          0.044 (4.4%)\n",
      "God generalisering - modellen overfitter ikke\n"
     ]
    }
   ],
   "source": [
    "y_train_pred = log_reg.predict(X_train_scaled)\n",
    "train_accuracy = accuracy_score(y_train, y_train_pred)\n",
    "\n",
    "print(f\"\\nTræning Accuracy: {train_accuracy:.3f} ({train_accuracy*100:.1f}%)\")\n",
    "print(f\"Test Accuracy:    {accuracy:.3f} ({accuracy*100:.1f}%)\")\n",
    "print(f\"Forskel:          {abs(train_accuracy - accuracy):.3f} ({abs(train_accuracy - accuracy)*100:.1f}%)\")\n",
    "\n",
    "if abs(train_accuracy - accuracy) < 0.05:\n",
    "    print(\"God generalisering - modellen overfitter ikke\")"
   ]
  },
  {
   "cell_type": "markdown",
   "id": "c74ba210-fa19-4cd3-936e-19553b45087f",
   "metadata": {},
   "source": [
    "# 10. Feature Importance (Coefficients)\n"
   ]
  },
  {
   "cell_type": "code",
   "execution_count": 153,
   "id": "47d0dfa0-751d-461a-b9e0-866753f3966d",
   "metadata": {},
   "outputs": [
    {
     "name": "stdout",
     "output_type": "stream",
     "text": [
      "     Feature  Coefficient\n",
      "  model year     0.272619\n",
      "      origin     0.219132\n",
      "acceleration     0.074588\n",
      "  horsepower    -0.266026\n",
      "displacement    -0.320244\n",
      "   cylinders    -0.332859\n",
      "      weight    -0.357700\n",
      "\n",
      "Positive koefficienter øger sandsynligheden for fuel-efficient\n",
      "Negative koefficienter mindsker sandsynligheden for fuel-efficient\n"
     ]
    }
   ],
   "source": [
    "feature_importance = pd.DataFrame({\n",
    "    'Feature': features,\n",
    "    'Coefficient': log_reg.coef_[0]\n",
    "}).sort_values('Coefficient', ascending=False)\n",
    "\n",
    "print(feature_importance.to_string(index=False))\n",
    "print(\"\\nPositive koefficienter øger sandsynligheden for fuel-efficient\")\n",
    "print(\"Negative koefficienter mindsker sandsynligheden for fuel-efficient\")"
   ]
  },
  {
   "cell_type": "code",
   "execution_count": null,
   "id": "2bed416e-5397-4605-ba81-a9cd807f1cc8",
   "metadata": {},
   "outputs": [],
   "source": []
  }
 ],
 "metadata": {
  "kernelspec": {
   "display_name": "Python 3 (ipykernel)",
   "language": "python",
   "name": "python3"
  },
  "language_info": {
   "codemirror_mode": {
    "name": "ipython",
    "version": 3
   },
   "file_extension": ".py",
   "mimetype": "text/x-python",
   "name": "python",
   "nbconvert_exporter": "python",
   "pygments_lexer": "ipython3",
   "version": "3.13.7"
  }
 },
 "nbformat": 4,
 "nbformat_minor": 5
}
