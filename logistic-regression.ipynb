{
 "cells": [
  {
   "cell_type": "markdown",
   "id": "bb75d68d",
   "metadata": {},
   "source": [
    "# MANDATORY ASSIGNMENT 1: LOGISTIC REGRESSION PROBLEM\n",
    "## Problem: Givet bilens specifikationer, klassificer om den er fuel-efficient"
   ]
  },
  {
   "cell_type": "code",
   "execution_count": 35,
   "id": "901ff5ce",
   "metadata": {
    "vscode": {
     "languageId": "plaintext"
    }
   },
   "outputs": [],
   "source": [
    "import pandas as pd\n",
    "import numpy as np\n",
    "import matplotlib.pyplot as plt\n",
    "from sklearn.linear_model import LogisticRegression\n",
    "from sklearn.model_selection import train_test_split\n",
    "from sklearn.metrics import accuracy_score, precision_score, recall_score, f1_score, confusion_matrix, classification_report"
   ]
  },
  {
   "cell_type": "markdown",
   "id": "978700dd-7f12-4de2-85d0-f06f804f6ef6",
   "metadata": {},
   "source": [
    "# 2. Load and Explore Data"
   ]
  },
  {
   "cell_type": "code",
   "execution_count": 36,
   "id": "e0a69405-038a-4242-a79f-745f17d3b3db",
   "metadata": {},
   "outputs": [
    {
     "name": "stdout",
     "output_type": "stream",
     "text": [
      "Dataset shape: (398, 9)\n",
      "\n",
      "First 5 rows:\n",
      "    mpg  cylinders  displacement horsepower  weight  acceleration  model year  \\\n",
      "0  18.0          8         307.0        130    3504          12.0          70   \n",
      "1  15.0          8         350.0        165    3693          11.5          70   \n",
      "2  18.0          8         318.0        150    3436          11.0          70   \n",
      "3  16.0          8         304.0        150    3433          12.0          70   \n",
      "4  17.0          8         302.0        140    3449          10.5          70   \n",
      "\n",
      "   origin                   car name  \n",
      "0       1  chevrolet chevelle malibu  \n",
      "1       1          buick skylark 320  \n",
      "2       1         plymouth satellite  \n",
      "3       1              amc rebel sst  \n",
      "4       1                ford torino  \n"
     ]
    }
   ],
   "source": [
    "df = pd.read_csv(\"data/cars.csv\")\n",
    "\n",
    "print(\"Dataset shape:\", df.shape)\n",
    "print(\"\\nFirst 5 rows:\")\n",
    "print(df.head())"
   ]
  },
  {
   "cell_type": "markdown",
   "id": "0b4d3352-fdf6-411c-b814-3a03ca6418d1",
   "metadata": {},
   "source": [
    "# 3. Data Cleaning (samme som regression)\n"
   ]
  },
  {
   "cell_type": "code",
   "execution_count": 37,
   "id": "5c685728-72f0-494c-ba7e-4d8fe38e0db2",
   "metadata": {},
   "outputs": [
    {
     "name": "stdout",
     "output_type": "stream",
     "text": [
      "\n",
      "Rækker i original: 398\n",
      "Rækker efter dropna: 392  (fjernet 6)\n"
     ]
    }
   ],
   "source": [
    "df['horsepower'] = df['horsepower'].replace('?', np.nan)\n",
    "df['horsepower'] = pd.to_numeric(df['horsepower'])\n",
    "\n",
    "target = \"mpg\"\n",
    "features = [\"cylinders\", \"displacement\", \"horsepower\", \"weight\",\n",
    "            \"acceleration\", \"model year\", \"origin\"]\n",
    "\n",
    "df_clean = df[features + [target]].dropna().copy()\n",
    "\n",
    "print(f\"\\nRækker i original: {len(df)}\")\n",
    "print(f\"Rækker efter dropna: {len(df_clean)}  (fjernet {len(df) - len(df_clean)})\")"
   ]
  },
  {
   "cell_type": "markdown",
   "id": "d57e9d11-785a-47fc-a4a3-66905efdf070",
   "metadata": {},
   "source": [
    "# 4. Create Binary Target Variable\n"
   ]
  },
  {
   "cell_type": "code",
   "execution_count": 38,
   "id": "9dc90877-d8b2-4370-9d58-76330462035c",
   "metadata": {},
   "outputs": [
    {
     "name": "stdout",
     "output_type": "stream",
     "text": [
      "\n",
      "Median MPG: 22.8\n",
      "\n",
      "Antal fuel-efficient biler (mpg > 22.8): 196\n",
      "Antal ikke fuel-efficient biler: 196\n"
     ]
    }
   ],
   "source": [
    "# Vi bruger medianen som threshold for at definere \"fuel-efficient\"\n",
    "median_mpg = df_clean[target].median()\n",
    "print(f\"\\nMedian MPG: {median_mpg:.1f}\")\n",
    "\n",
    "# Opret binær målvariabel: 1 hvis mpg > median, 0 ellers\n",
    "df_clean['is_efficient'] = (df_clean[target] > median_mpg).astype(int)\n",
    "\n",
    "print(f\"\\nAntal fuel-efficient biler (mpg > {median_mpg:.1f}): {df_clean['is_efficient'].sum()}\")\n",
    "print(f\"Antal ikke fuel-efficient biler: {len(df_clean) - df_clean['is_efficient'].sum()}\")"
   ]
  },
  {
   "cell_type": "markdown",
   "id": "22e7362d-b531-4cd9-bb75-e82385eb917f",
   "metadata": {},
   "source": [
    "# 5. Prepare Features and Target\n"
   ]
  },
  {
   "cell_type": "code",
   "execution_count": 39,
   "id": "cca33d0b-0eae-40f1-86c6-f6f6b4d3cce0",
   "metadata": {},
   "outputs": [
    {
     "name": "stdout",
     "output_type": "stream",
     "text": [
      "\n",
      "Training set: 313 samples\n",
      "Test set: 79 samples\n"
     ]
    }
   ],
   "source": [
    "X = df_clean[features]\n",
    "y = df_clean['is_efficient']\n",
    "\n",
    "X_train, X_test, y_train, y_test = train_test_split(\n",
    "    X, y, test_size=0.20, random_state=42\n",
    ")\n",
    "\n",
    "print(f\"\\nTraining set: {X_train.shape[0]} samples\")\n",
    "print(f\"Test set: {X_test.shape[0]} samples\")"
   ]
  },
  {
   "cell_type": "markdown",
   "id": "3541792b-43a3-4385-80d7-ca8798f18ce7",
   "metadata": {},
   "source": [
    "# 5.1 Feature Scaling"
   ]
  },
  {
   "cell_type": "code",
   "execution_count": 98,
   "id": "1986e5f6-7940-42ee-8fbc-4432e630b497",
   "metadata": {},
   "outputs": [
    {
     "name": "stdout",
     "output_type": "stream",
     "text": [
      "FØR SCALING (første bil i træningssæt):\n",
      "cylinders          6.0\n",
      "displacement     225.0\n",
      "horsepower       110.0\n",
      "weight          3620.0\n",
      "acceleration      18.7\n",
      "model year        78.0\n",
      "origin             1.0\n",
      "\n",
      "EFTER SCALING (samme bil):\n",
      "cylinders       0.304862\n",
      "displacement    0.284578\n",
      "horsepower      0.141429\n",
      "weight          0.754803\n",
      "acceleration    1.121759\n",
      "model year      0.494528\n",
      "origin         -0.689825\n",
      "\n",
      "Features er nu scaled til mean=0, std=1\n",
      "Dette gør det nemmere for modellen at lære og sammenligne features\n"
     ]
    }
   ],
   "source": [
    "from sklearn.preprocessing import StandardScaler\n",
    "\n",
    "scaler = StandardScaler()\n",
    "X_train_scaled = scaler.fit_transform(X_train)\n",
    "X_test_scaled = scaler.transform(X_test)\n",
    "\n",
    "print(\"FØR SCALING (første bil i træningssæt):\")\n",
    "print(X_train.iloc[0].to_string())\n",
    "print(\"\\nEFTER SCALING (samme bil):\")\n",
    "scaled_series = pd.Series(X_train_scaled[0], index=X_train.columns)\n",
    "print(scaled_series.to_string())\n",
    "print(\"\\nFeatures er nu scaled til mean=0, std=1\")\n",
    "print(\"Dette gør det nemmere for modellen at lære og sammenligne features\")"
   ]
  },
  {
   "cell_type": "markdown",
   "id": "333b2760-7677-4f5c-a7c7-e7146955dc20",
   "metadata": {},
   "source": [
    "# 6. Train Logistic Regression Model\n"
   ]
  },
  {
   "cell_type": "code",
   "execution_count": 100,
   "id": "c4dce525-8c6c-4fa8-887f-c0fe5fb90caf",
   "metadata": {},
   "outputs": [
    {
     "name": "stdout",
     "output_type": "stream",
     "text": [
      "================================================================================\n",
      "HYPERPARAMETER TUNING - Finder de bedste indstillinger\n",
      "================================================================================\n",
      "\n",
      "Tester 5 forskellige C-værdier: [0.01, 0.1, 1, 10, 100]\n",
      "Med 5-fold cross-validation betyder det 5 × 5 = 25 modeller trænes\n",
      "Fitting 5 folds for each of 5 candidates, totalling 25 fits\n",
      "\n",
      "================================================================================\n",
      "RESULTATER\n",
      "================================================================================\n",
      "Bedste C-værdi: 0.01\n",
      "Bedste CV score: 0.9171 (91.71%)\n",
      "\n",
      "Alle testede C-værdier og deres score:\n",
      "  C =   0.01 → Accuracy: 0.9171\n",
      "  C =    0.1 → Accuracy: 0.9170\n",
      "  C =    1.0 → Accuracy: 0.9137\n",
      "  C =   10.0 → Accuracy: 0.9104\n",
      "  C =  100.0 → Accuracy: 0.9073\n"
     ]
    }
   ],
   "source": [
    "from sklearn.model_selection import GridSearchCV\n",
    "\n",
    "print(\"=\"*80)\n",
    "print(\"HYPERPARAMETER TUNING - Finder de bedste indstillinger\")\n",
    "print(\"=\"*80)\n",
    "\n",
    "# Test forskellige hyperparametre\n",
    "param_grid = {\n",
    "    'C': [0.01, 0.1, 1, 10, 100],      \n",
    "    'penalty': ['l2'],                  \n",
    "    'solver': ['lbfgs']                \n",
    "}\n",
    "\n",
    "print(f\"\\nTester {len(param_grid['C'])} forskellige C-værdier: {param_grid['C']}\")\n",
    "print(\"Med 5-fold cross-validation betyder det 5 × 5 = 25 modeller trænes\")\n",
    "\n",
    "grid_search = GridSearchCV(\n",
    "    LogisticRegression(random_state=42, max_iter=1000),\n",
    "    param_grid,\n",
    "    cv=5,              \n",
    "    scoring='accuracy',\n",
    "    verbose=1          \n",
    ")\n",
    "\n",
    "grid_search.fit(X_train_scaled, y_train)\n",
    "log_reg = grid_search.best_estimator_\n",
    "\n",
    "print(\"\\n\" + \"=\"*80)\n",
    "print(\"RESULTATER\")\n",
    "print(\"=\"*80)\n",
    "print(f\"Bedste C-værdi: {grid_search.best_params_['C']}\")\n",
    "print(f\"Bedste CV score: {grid_search.best_score_:.4f} ({grid_search.best_score_*100:.2f}%)\")\n",
    "\n",
    "# Vis alle resultater\n",
    "print(\"\\nAlle testede C-værdier og deres score:\")\n",
    "results = pd.DataFrame(grid_search.cv_results_)\n",
    "for c_val, mean_score in zip(results['param_C'], results['mean_test_score']):\n",
    "    print(f\"  C = {c_val:6} → Accuracy: {mean_score:.4f}\")"
   ]
  },
  {
   "cell_type": "markdown",
   "id": "c87a7f9b-ff6a-4e98-a272-c0e536ee57e4",
   "metadata": {},
   "source": [
    "# 7. Make Predictions\n"
   ]
  },
  {
   "cell_type": "code",
   "execution_count": 84,
   "id": "8dd1fe21-bb3e-44d9-8f4d-d06e83e67928",
   "metadata": {},
   "outputs": [
    {
     "name": "stdout",
     "output_type": "stream",
     "text": [
      "================================================================================\n",
      "FORUDSIGELSER PÅ TESTDATA\n",
      "================================================================================\n",
      "\n",
      "Antal test samples: 79\n",
      "\n",
      "Predictions (0=Not Efficient, 1=Fuel Efficient):\n",
      "  Predicted as Fuel Efficient: 45 biler (57.0%)\n",
      "  Predicted as NOT Efficient:  34 biler (43.0%)\n",
      "\n",
      "Sandsynligheder (0.0-1.0):\n",
      "  Gennemsnitlig confidence: 0.514\n",
      "  Laveste confidence: 0.028\n",
      "  Højeste confidence: 0.889\n",
      "\n",
      "================================================================================\n",
      "EKSEMPEL PREDICTIONS (første 5 testbiler):\n",
      "================================================================================\n",
      " Actual  Predicted  Probability Correct\n",
      "      1          1     0.729777       ✓\n",
      "      0          1     0.674426       ✗\n",
      "      1          1     0.871926       ✓\n",
      "      1          1     0.694406       ✓\n",
      "      1          1     0.710912       ✓\n",
      "\n",
      "Forklaring:\n",
      "- Actual: Den rigtige klasse (0 eller 1)\n",
      "- Predicted: Hvad modellen gættede (0 eller 1)\n",
      "- Probability: Modellens confidence for klasse 1 (0.0-1.0)\n",
      "  * >0.5 → predicts 1 (Fuel Efficient)\n",
      "  * <0.5 → predicts 0 (Not Efficient)\n"
     ]
    }
   ],
   "source": [
    "print(\"=\"*80)\n",
    "print(\"FORUDSIGELSER PÅ TESTDATA\")\n",
    "print(\"=\"*80)\n",
    "\n",
    "# Lav predictions\n",
    "y_pred = log_reg.predict(X_test_scaled)\n",
    "y_pred_proba = log_reg.predict_proba(X_test_scaled)[:, 1]\n",
    "\n",
    "print(f\"\\nAntal test samples: {len(y_pred)}\")\n",
    "print(f\"\\nPredictions (0=Not Efficient, 1=Fuel Efficient):\")\n",
    "print(f\"  Predicted as Fuel Efficient: {sum(y_pred)} biler ({sum(y_pred)/len(y_pred)*100:.1f}%)\")\n",
    "print(f\"  Predicted as NOT Efficient:  {len(y_pred)-sum(y_pred)} biler ({(len(y_pred)-sum(y_pred))/len(y_pred)*100:.1f}%)\")\n",
    "\n",
    "print(f\"\\nSandsynligheder (0.0-1.0):\")\n",
    "print(f\"  Gennemsnitlig confidence: {y_pred_proba.mean():.3f}\")\n",
    "print(f\"  Laveste confidence: {y_pred_proba.min():.3f}\")\n",
    "print(f\"  Højeste confidence: {y_pred_proba.max():.3f}\")\n",
    "\n",
    "# Vis nogle eksempler\n",
    "print(\"\\n\" + \"=\"*80)\n",
    "print(\"EKSEMPEL PREDICTIONS (første 5 testbiler):\")\n",
    "print(\"=\"*80)\n",
    "examples = pd.DataFrame({\n",
    "    'Actual': y_test.head(5).values,\n",
    "    'Predicted': y_pred[:5],\n",
    "    'Probability': y_pred_proba[:5],\n",
    "    'Correct': ['✓' if a == p else '✗' for a, p in zip(y_test.head(5).values, y_pred[:5])]\n",
    "})\n",
    "print(examples.to_string(index=False))\n",
    "\n",
    "print(\"\\nForklaring:\")\n",
    "print(\"- Actual: Den rigtige klasse (0 eller 1)\")\n",
    "print(\"- Predicted: Hvad modellen gættede (0 eller 1)\")\n",
    "print(\"- Probability: Modellens confidence for klasse 1 (0.0-1.0)\")\n",
    "print(\"  * >0.5 → predicts 1 (Fuel Efficient)\")\n",
    "print(\"  * <0.5 → predicts 0 (Not Efficient)\")"
   ]
  },
  {
   "cell_type": "markdown",
   "id": "4873f873-5f94-4051-87df-322c74773517",
   "metadata": {},
   "source": [
    "# 8. Evaluate Model\n"
   ]
  },
  {
   "cell_type": "code",
   "execution_count": 97,
   "id": "019a1950-3057-47f8-8a92-147fd1a3c614",
   "metadata": {},
   "outputs": [
    {
     "name": "stdout",
     "output_type": "stream",
     "text": [
      "\n",
      "================================================================================\n",
      "MODEL EVALUATION\n",
      "================================================================================\n",
      "\n",
      "I vores 79 testbiler har vi:\n",
      "  True Positives (TP):   36 - Korrekt fundet som Fuel Efficient\n",
      "  True Negatives (TN):   33 - Korrekt fundet som NOT Efficient\n",
      "  False Positives (FP):  9 - Forkert kaldt Efficient (var faktisk NOT)\n",
      "  False Negatives (FN):  1 - Forkert kaldt NOT Efficient (var faktisk Efficient)\n",
      "\n",
      "--------------------------------------------------------------------------------\n",
      "METRICS:\n",
      "--------------------------------------------------------------------------------\n",
      "\n",
      "1. ACCURACY = 0.873 (87.3%)\n",
      "   (36 + 33) / 79 = 87.3% af alle predictions var korrekte\n",
      "\n",
      "2. PRECISION = 0.800 (80.0%)\n",
      "   36 / (36 + 9) = Når vi siger 'Efficient', har vi ret 80.0% af tiden\n",
      "\n",
      "3. RECALL = 0.973 (97.3%)\n",
      "   36 / (36 + 1) = Vi fandt 97.3% af alle Efficient biler\n",
      "\n",
      "4. F1-SCORE = 0.878\n",
      "   Balance mellem precision og recall\n"
     ]
    }
   ],
   "source": [
    "from sklearn.metrics import confusion_matrix\n",
    "\n",
    "accuracy = accuracy_score(y_test, y_pred)\n",
    "precision = precision_score(y_test, y_pred)\n",
    "recall = recall_score(y_test, y_pred)\n",
    "f1 = f1_score(y_test, y_pred)\n",
    "\n",
    "print(\"\\n\" + \"=\"*80)\n",
    "print(\"MODEL EVALUATION\")\n",
    "print(\"=\"*80)\n",
    "\n",
    "cm = confusion_matrix(y_test, y_pred)\n",
    "tn, fp, fn, tp = cm.ravel()\n",
    "\n",
    "print(f\"\\nI vores {len(y_test)} testbiler har vi:\")\n",
    "print(f\"  True Positives (TP):   {tp} - Korrekt fundet som Fuel Efficient\")\n",
    "print(f\"  True Negatives (TN):   {tn} - Korrekt fundet som NOT Efficient\")\n",
    "print(f\"  False Positives (FP):  {fp} - Forkert kaldt Efficient (var faktisk NOT)\")\n",
    "print(f\"  False Negatives (FN):  {fn} - Forkert kaldt NOT Efficient (var faktisk Efficient)\")\n",
    "\n",
    "print(\"\\n\" + \"-\"*80)\n",
    "print(\"METRICS:\")\n",
    "print(\"-\"*80)\n",
    "\n",
    "print(f\"\\n1. ACCURACY = {accuracy:.3f} ({accuracy*100:.1f}%)\")\n",
    "print(f\"   ({tp} + {tn}) / {len(y_test)} = {accuracy*100:.1f}% af alle predictions var korrekte\")\n",
    "\n",
    "print(f\"\\n2. PRECISION = {precision:.3f} ({precision*100:.1f}%)\")\n",
    "print(f\"   {tp} / ({tp} + {fp}) = Når vi siger 'Efficient', har vi ret {precision*100:.1f}% af tiden\")\n",
    "\n",
    "print(f\"\\n3. RECALL = {recall:.3f} ({recall*100:.1f}%)\")\n",
    "print(f\"   {tp} / ({tp} + {fn}) = Vi fandt {recall*100:.1f}% af alle Efficient biler\")\n",
    "\n",
    "print(f\"\\n4. F1-SCORE = {f1:.3f}\")\n",
    "print(f\"   Balance mellem precision og recall\")\n"
   ]
  },
  {
   "cell_type": "markdown",
   "id": "6e909a84-c56e-40e0-983e-9a5b00b21803",
   "metadata": {},
   "source": [
    "# 8.1 Confusion Matrix Visualisering"
   ]
  },
  {
   "cell_type": "code",
   "execution_count": 96,
   "id": "995afa04-fd98-4b5e-9a4a-db3d5fb19202",
   "metadata": {},
   "outputs": [
    {
     "data": {
      "image/png": "[encoded data removed]",
      "text/plain": [
       "<Figure size 800x700 with 2 Axes>"
      ]
     },
     "metadata": {},
     "output_type": "display_data"
    },
    {
     "name": "stdout",
     "output_type": "stream",
     "text": [
      "\n",
      "Confusion Matrix viser:\n",
      "69 korrekte predictions ud af 79 (87.3%)\n",
      "10 fejl (12.7%)\n"
     ]
    }
   ],
   "source": [
    "import seaborn as sns\n",
    "\n",
    "# Visualiser confusion matrix\n",
    "plt.figure(figsize=(8, 7))\n",
    "\n",
    "sns.heatmap(cm, annot=True, fmt='d', cmap='Blues', \n",
    "            xticklabels=['Not Efficient', 'Fuel Efficient'],\n",
    "            yticklabels=['Not Efficient', 'Fuel Efficient'],\n",
    "            cbar_kws={'label': 'Antal biler'})\n",
    "\n",
    "plt.title('Confusion Matrix - Logistic Regression\\n', fontsize=14, fontweight='bold')\n",
    "plt.ylabel('Faktisk Klasse', fontsize=12, fontweight='bold')\n",
    "plt.xlabel('Forudsagt Klasse', fontsize=12, fontweight='bold')\n",
    "\n",
    "plt.tight_layout()  # Flyttet tight_layout() FØR plt.text()\n",
    "plt.show()\n",
    "\n",
    "print(\"\\nConfusion Matrix viser:\")\n",
    "print(f\"{tn + tp} korrekte predictions ud af {len(y_test)} ({accuracy*100:.1f}%)\")\n",
    "print(f\"{fp + fn} fejl ({(fp+fn)/len(y_test)*100:.1f}%)\")"
   ]
  },
  {
   "cell_type": "markdown",
   "id": "acab18bd-6a56-4ccc-9a7a-cdc2e05891fd",
   "metadata": {},
   "source": [
    "# 8.2 ROC Curve og AUC Score\n"
   ]
  },
  {
   "cell_type": "code",
   "execution_count": 80,
   "id": "cb9e41b9-adb0-4f00-8c74-dc155ddf13e5",
   "metadata": {},
   "outputs": [
    {
     "name": "stdout",
     "output_type": "stream",
     "text": [
      "\n",
      "================================================================================\n",
      "ROC CURVE ANALYSE\n",
      "================================================================================\n",
      "ROC (Receiver Operating Characteristic) viser: Hvor god er modellen til at skelne mellem klasserne?\n",
      "Vi tester mange forskellige 'thresholds' (ikke bare median=22.8)\n"
     ]
    },
    {
     "data": {
      "image/png": "[encoded data removed]",
      "text/plain": [
       "<Figure size 800x600 with 1 Axes>"
      ]
     },
     "metadata": {},
     "output_type": "display_data"
    },
    {
     "name": "stdout",
     "output_type": "stream",
     "text": [
      "\n",
      "AUC (Area Under Curve) Score: 0.9550\n",
      "\n",
      "Fortolkning af AUC:\n",
      "  1.0 = Perfekt model\n",
      "  0.9 = Excellent\n",
      "  0.8 = God\n",
      "  0.5 = Lige så god som at gætte\n",
      "\n",
      "Vores model med AUC=0.955 er Excellent\n",
      "  Modellen kan skelne meget godt mellem efficient og NOT efficient biler\n"
     ]
    }
   ],
   "source": [
    "from sklearn.metrics import roc_curve, auc\n",
    "\n",
    "print(\"\\n\" + \"=\"*80)\n",
    "print(\"ROC CURVE ANALYSE\")\n",
    "print(\"=\"*80)\n",
    "print(\"ROC (Receiver Operating Characteristic) viser: Hvor god er modellen til at skelne mellem klasserne?\")\n",
    "print(f\"Vi tester mange forskellige 'thresholds' (ikke bare median={median_mpg:.1f})\")\n",
    "\n",
    "# Beregn ROC curve\n",
    "fpr, tpr, thresholds = roc_curve(y_test, y_pred_proba)\n",
    "roc_auc = auc(fpr, tpr)\n",
    "\n",
    "# Visualiser\n",
    "plt.figure(figsize=(8, 6))\n",
    "plt.plot(fpr, tpr, color='darkorange', lw=2, label=f'Vores Model (AUC = {roc_auc:.3f})')\n",
    "plt.plot([0, 1], [0, 1], color='navy', lw=2, linestyle='--', label='Random Gæt (AUC = 0.5)')\n",
    "plt.xlabel('False Positive Rate (hvor mange fejl laver vi?)')\n",
    "plt.ylabel('True Positive Rate (hvor mange finder vi?)')\n",
    "plt.title('ROC Curve - Logistic Regression')\n",
    "plt.legend()\n",
    "plt.grid(alpha=0.3)\n",
    "plt.tight_layout()\n",
    "plt.show()\n",
    "\n",
    "print(f\"\\nAUC (Area Under Curve) Score: {roc_auc:.4f}\")\n",
    "print(\"\\nFortolkning af AUC:\")\n",
    "print(\"  1.0 = Perfekt model\")\n",
    "print(\"  0.9 = Excellent\")\n",
    "print(\"  0.8 = God\")\n",
    "print(\"  0.5 = Lige så god som at gætte\")\n",
    "\n",
    "if roc_auc >= 0.9:\n",
    "    print(f\"\\nVores model med AUC={roc_auc:.3f} er Excellent\")\n",
    "    print(\"  Modellen kan skelne meget godt mellem efficient og NOT efficient biler\")\n",
    "elif roc_auc >= 0.8:\n",
    "    print(f\"\\nVores model med AUC={roc_auc:.3f} er GOD\")"
   ]
  },
  {
   "cell_type": "markdown",
   "id": "99051f88-6e97-4554-92c3-b93e62203f9e",
   "metadata": {},
   "source": [
    "# 9. Model Validation - Sammenligning med Træningsdata\n"
   ]
  },
  {
   "cell_type": "code",
   "execution_count": 81,
   "id": "63175ea2-be92-47ef-b43d-ebeb899057c5",
   "metadata": {},
   "outputs": [
    {
     "name": "stdout",
     "output_type": "stream",
     "text": [
      "\n",
      "================================================================================\n",
      "MODEL VALIDATION\n",
      "================================================================================\n",
      "Træning Accuracy: 0.917 (91.7%)\n",
      "Test Accuracy:    0.873 (87.3%)\n",
      "Forskel:          0.044 (4.4%)\n",
      "God generalisering - modellen overfitter ikke\n",
      "\n",
      "GridSearchCV brugte 5-fold CV → Best score: 0.917\n"
     ]
    }
   ],
   "source": [
    "print(\"\\n\" + \"=\"*80)\n",
    "print(\"MODEL VALIDATION\")\n",
    "print(\"=\"*80)\n",
    "\n",
    "# Tjek overfitting\n",
    "y_train_pred = log_reg.predict(X_train_scaled)\n",
    "train_accuracy = accuracy_score(y_train, y_train_pred)\n",
    "\n",
    "print(f\"Træning Accuracy: {train_accuracy:.3f} ({train_accuracy*100:.1f}%)\")\n",
    "print(f\"Test Accuracy:    {accuracy:.3f} ({accuracy*100:.1f}%)\")\n",
    "print(f\"Forskel:          {abs(train_accuracy - accuracy):.3f} ({abs(train_accuracy - accuracy)*100:.1f}%)\")\n",
    "\n",
    "if abs(train_accuracy - accuracy) < 0.05:\n",
    "    print(\"God generalisering - modellen overfitter ikke\")\n",
    "\n",
    "print(f\"\\nGridSearchCV brugte 5-fold CV → Best score: {grid_search.best_score_:.3f}\")"
   ]
  },
  {
   "cell_type": "markdown",
   "id": "c74ba210-fa19-4cd3-936e-19553b45087f",
   "metadata": {},
   "source": [
    "# 10. Feature Importance (Coefficients)\n"
   ]
  },
  {
   "cell_type": "code",
   "execution_count": 46,
   "id": "47d0dfa0-751d-461a-b9e0-866753f3966d",
   "metadata": {},
   "outputs": [
    {
     "name": "stdout",
     "output_type": "stream",
     "text": [
      "\n",
      "================================================================================\n",
      "FEATURE IMPORTANCE (Koefficienter)\n",
      "================================================================================\n",
      "     Feature  Coefficient\n",
      "  model year     0.272619\n",
      "      origin     0.219132\n",
      "acceleration     0.074588\n",
      "  horsepower    -0.266026\n",
      "displacement    -0.320244\n",
      "   cylinders    -0.332859\n",
      "      weight    -0.357700\n",
      "\n",
      "Positive koefficienter øger sandsynligheden for fuel-efficient\n",
      "Negative koefficienter mindsker sandsynligheden for fuel-efficient\n"
     ]
    }
   ],
   "source": [
    "feature_importance = pd.DataFrame({\n",
    "    'Feature': features,\n",
    "    'Coefficient': log_reg.coef_[0]\n",
    "}).sort_values('Coefficient', ascending=False)\n",
    "\n",
    "print(\"\\n\" + \"=\"*80)\n",
    "print(\"FEATURE IMPORTANCE (Koefficienter)\")\n",
    "print(\"=\"*80)\n",
    "print(feature_importance.to_string(index=False))\n",
    "print(\"\\nPositive koefficienter øger sandsynligheden for fuel-efficient\")\n",
    "print(\"Negative koefficienter mindsker sandsynligheden for fuel-efficient\")"
   ]
  }
 ],
 "metadata": {
  "kernelspec": {
   "display_name": "Python 3 (ipykernel)",
   "language": "python",
   "name": "python3"
  },
  "language_info": {
   "codemirror_mode": {
    "name": "ipython",
    "version": 3
   },
   "file_extension": ".py",
   "mimetype": "text/x-python",
   "name": "python",
   "nbconvert_exporter": "python",
   "pygments_lexer": "ipython3",
   "version": "3.13.7"
  }
 },
 "nbformat": 4,
 "nbformat_minor": 5
}
